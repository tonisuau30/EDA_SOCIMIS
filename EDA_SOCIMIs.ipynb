{
 "cells": [
  {
   "cell_type": "code",
   "execution_count": 1,
   "metadata": {},
   "outputs": [],
   "source": [
    "import pandas_datareader.data as web\n",
    "import pandas as pd \n",
    "import numpy as np\n",
    "import plotly.express as px\n",
    "import plotly.graph_objects as go"
   ]
  },
  {
   "cell_type": "markdown",
   "metadata": {},
   "source": [
    "# Merlin \n",
    "### 30 junio 14"
   ]
  },
  {
   "cell_type": "code",
   "execution_count": 2,
   "metadata": {},
   "outputs": [
    {
     "data": {
      "text/html": [
       "<div>\n",
       "<style scoped>\n",
       "    .dataframe tbody tr th:only-of-type {\n",
       "        vertical-align: middle;\n",
       "    }\n",
       "\n",
       "    .dataframe tbody tr th {\n",
       "        vertical-align: top;\n",
       "    }\n",
       "\n",
       "    .dataframe thead th {\n",
       "        text-align: right;\n",
       "    }\n",
       "</style>\n",
       "<table border=\"1\" class=\"dataframe\">\n",
       "  <thead>\n",
       "    <tr style=\"text-align: right;\">\n",
       "      <th></th>\n",
       "      <th>High</th>\n",
       "      <th>Low</th>\n",
       "      <th>Open</th>\n",
       "      <th>Close</th>\n",
       "      <th>Volume</th>\n",
       "      <th>Adj Close</th>\n",
       "    </tr>\n",
       "    <tr>\n",
       "      <th>Date</th>\n",
       "      <th></th>\n",
       "      <th></th>\n",
       "      <th></th>\n",
       "      <th></th>\n",
       "      <th></th>\n",
       "      <th></th>\n",
       "    </tr>\n",
       "  </thead>\n",
       "  <tbody>\n",
       "    <tr>\n",
       "      <th>2022-05-25</th>\n",
       "      <td>10.82</td>\n",
       "      <td>10.52</td>\n",
       "      <td>10.75</td>\n",
       "      <td>10.60</td>\n",
       "      <td>590072.0</td>\n",
       "      <td>9.838506</td>\n",
       "    </tr>\n",
       "    <tr>\n",
       "      <th>2022-05-26</th>\n",
       "      <td>10.68</td>\n",
       "      <td>10.55</td>\n",
       "      <td>10.67</td>\n",
       "      <td>10.60</td>\n",
       "      <td>835930.0</td>\n",
       "      <td>9.838506</td>\n",
       "    </tr>\n",
       "    <tr>\n",
       "      <th>2022-05-27</th>\n",
       "      <td>10.69</td>\n",
       "      <td>10.49</td>\n",
       "      <td>10.69</td>\n",
       "      <td>10.64</td>\n",
       "      <td>1106267.0</td>\n",
       "      <td>9.875632</td>\n",
       "    </tr>\n",
       "    <tr>\n",
       "      <th>2022-05-30</th>\n",
       "      <td>10.80</td>\n",
       "      <td>10.61</td>\n",
       "      <td>10.71</td>\n",
       "      <td>10.64</td>\n",
       "      <td>456025.0</td>\n",
       "      <td>9.875632</td>\n",
       "    </tr>\n",
       "    <tr>\n",
       "      <th>2022-05-31</th>\n",
       "      <td>10.64</td>\n",
       "      <td>10.48</td>\n",
       "      <td>10.56</td>\n",
       "      <td>10.53</td>\n",
       "      <td>1297679.0</td>\n",
       "      <td>9.773534</td>\n",
       "    </tr>\n",
       "  </tbody>\n",
       "</table>\n",
       "</div>"
      ],
      "text/plain": [
       "             High    Low   Open  Close     Volume  Adj Close\n",
       "Date                                                        \n",
       "2022-05-25  10.82  10.52  10.75  10.60   590072.0   9.838506\n",
       "2022-05-26  10.68  10.55  10.67  10.60   835930.0   9.838506\n",
       "2022-05-27  10.69  10.49  10.69  10.64  1106267.0   9.875632\n",
       "2022-05-30  10.80  10.61  10.71  10.64   456025.0   9.875632\n",
       "2022-05-31  10.64  10.48  10.56  10.53  1297679.0   9.773534"
      ]
     },
     "execution_count": 2,
     "metadata": {},
     "output_type": "execute_result"
    }
   ],
   "source": [
    "# Obtenemos dataframe por ticker desde yahoo finance, start date y stop date\n",
    "merlin = web.DataReader('MRL.MC',  'yahoo', '2018-10-01', '2022-05-31')\n",
    "merlin.tail()"
   ]
  },
  {
   "cell_type": "code",
   "execution_count": 3,
   "metadata": {},
   "outputs": [],
   "source": [
    "# Convertimos el indice en columna para poder modificarlo\n",
    "merlin=merlin.reset_index()"
   ]
  },
  {
   "cell_type": "code",
   "execution_count": 4,
   "metadata": {},
   "outputs": [
    {
     "data": {
      "text/plain": [
       "0    2018-10-01\n",
       "1    2018-10-02\n",
       "2    2018-10-03\n",
       "3    2018-10-04\n",
       "4    2018-10-05\n",
       "Name: Date, dtype: object"
      ]
     },
     "execution_count": 4,
     "metadata": {},
     "output_type": "execute_result"
    }
   ],
   "source": [
    "# Pasamos date a str\n",
    "merlin['Date']=merlin['Date'].astype(str)\n",
    "merlin['Date'].head()"
   ]
  },
  {
   "cell_type": "code",
   "execution_count": 5,
   "metadata": {},
   "outputs": [
    {
     "data": {
      "text/plain": [
       "0    2018-10\n",
       "1    2018-10\n",
       "2    2018-10\n",
       "3    2018-10\n",
       "4    2018-10\n",
       "Name: Date, dtype: object"
      ]
     },
     "execution_count": 5,
     "metadata": {},
     "output_type": "execute_result"
    }
   ],
   "source": [
    "# Eliminamos los dias\n",
    "merlin['Date']=merlin['Date'].str.slice_replace(7,repl='')\n",
    "merlin['Date'].head()"
   ]
  },
  {
   "cell_type": "code",
   "execution_count": 6,
   "metadata": {},
   "outputs": [
    {
     "data": {
      "text/html": [
       "<div>\n",
       "<style scoped>\n",
       "    .dataframe tbody tr th:only-of-type {\n",
       "        vertical-align: middle;\n",
       "    }\n",
       "\n",
       "    .dataframe tbody tr th {\n",
       "        vertical-align: top;\n",
       "    }\n",
       "\n",
       "    .dataframe thead tr th {\n",
       "        text-align: left;\n",
       "    }\n",
       "\n",
       "    .dataframe thead tr:last-of-type th {\n",
       "        text-align: right;\n",
       "    }\n",
       "</style>\n",
       "<table border=\"1\" class=\"dataframe\">\n",
       "  <thead>\n",
       "    <tr>\n",
       "      <th></th>\n",
       "      <th>High</th>\n",
       "      <th>Low</th>\n",
       "      <th>Open</th>\n",
       "      <th>Close</th>\n",
       "      <th>Volume</th>\n",
       "      <th>Adj Close</th>\n",
       "    </tr>\n",
       "    <tr>\n",
       "      <th></th>\n",
       "      <th>mean</th>\n",
       "      <th>mean</th>\n",
       "      <th>mean</th>\n",
       "      <th>mean</th>\n",
       "      <th>mean</th>\n",
       "      <th>mean</th>\n",
       "    </tr>\n",
       "    <tr>\n",
       "      <th>Date</th>\n",
       "      <th></th>\n",
       "      <th></th>\n",
       "      <th></th>\n",
       "      <th></th>\n",
       "      <th></th>\n",
       "      <th></th>\n",
       "    </tr>\n",
       "  </thead>\n",
       "  <tbody>\n",
       "    <tr>\n",
       "      <th>2018-10</th>\n",
       "      <td>11.430652</td>\n",
       "      <td>11.217826</td>\n",
       "      <td>11.328696</td>\n",
       "      <td>11.303478</td>\n",
       "      <td>1.436161e+06</td>\n",
       "      <td>9.100840</td>\n",
       "    </tr>\n",
       "    <tr>\n",
       "      <th>2018-11</th>\n",
       "      <td>11.248409</td>\n",
       "      <td>11.054545</td>\n",
       "      <td>11.155682</td>\n",
       "      <td>11.142045</td>\n",
       "      <td>1.137758e+06</td>\n",
       "      <td>9.055034</td>\n",
       "    </tr>\n",
       "    <tr>\n",
       "      <th>2018-12</th>\n",
       "      <td>11.099474</td>\n",
       "      <td>10.833684</td>\n",
       "      <td>10.975000</td>\n",
       "      <td>10.955526</td>\n",
       "      <td>1.452432e+06</td>\n",
       "      <td>8.903452</td>\n",
       "    </tr>\n",
       "    <tr>\n",
       "      <th>2019-01</th>\n",
       "      <td>11.341591</td>\n",
       "      <td>11.150000</td>\n",
       "      <td>11.235227</td>\n",
       "      <td>11.275227</td>\n",
       "      <td>1.132259e+06</td>\n",
       "      <td>9.163270</td>\n",
       "    </tr>\n",
       "    <tr>\n",
       "      <th>2019-02</th>\n",
       "      <td>11.448000</td>\n",
       "      <td>11.267000</td>\n",
       "      <td>11.353250</td>\n",
       "      <td>11.333000</td>\n",
       "      <td>1.030770e+06</td>\n",
       "      <td>9.210221</td>\n",
       "    </tr>\n",
       "  </tbody>\n",
       "</table>\n",
       "</div>"
      ],
      "text/plain": [
       "              High        Low       Open      Close        Volume Adj Close\n",
       "              mean       mean       mean       mean          mean      mean\n",
       "Date                                                                       \n",
       "2018-10  11.430652  11.217826  11.328696  11.303478  1.436161e+06  9.100840\n",
       "2018-11  11.248409  11.054545  11.155682  11.142045  1.137758e+06  9.055034\n",
       "2018-12  11.099474  10.833684  10.975000  10.955526  1.452432e+06  8.903452\n",
       "2019-01  11.341591  11.150000  11.235227  11.275227  1.132259e+06  9.163270\n",
       "2019-02  11.448000  11.267000  11.353250  11.333000  1.030770e+06  9.210221"
      ]
     },
     "execution_count": 6,
     "metadata": {},
     "output_type": "execute_result"
    }
   ],
   "source": [
    "# Agrupamos por meses y sacamos la media de cada columna\n",
    "merlin=merlin.groupby('Date').aggregate([np.mean])\n",
    "merlin.head()"
   ]
  },
  {
   "cell_type": "code",
   "execution_count": 7,
   "metadata": {},
   "outputs": [
    {
     "data": {
      "text/html": [
       "<div>\n",
       "<style scoped>\n",
       "    .dataframe tbody tr th:only-of-type {\n",
       "        vertical-align: middle;\n",
       "    }\n",
       "\n",
       "    .dataframe tbody tr th {\n",
       "        vertical-align: top;\n",
       "    }\n",
       "\n",
       "    .dataframe thead tr th {\n",
       "        text-align: left;\n",
       "    }\n",
       "\n",
       "    .dataframe thead tr:last-of-type th {\n",
       "        text-align: right;\n",
       "    }\n",
       "</style>\n",
       "<table border=\"1\" class=\"dataframe\">\n",
       "  <thead>\n",
       "    <tr>\n",
       "      <th></th>\n",
       "      <th>High</th>\n",
       "      <th>Low</th>\n",
       "      <th>Open</th>\n",
       "      <th>Close</th>\n",
       "      <th>Volume</th>\n",
       "      <th>Adj Close</th>\n",
       "      <th>Variación Rentabilidad Mensual (%)</th>\n",
       "    </tr>\n",
       "    <tr>\n",
       "      <th></th>\n",
       "      <th>mean</th>\n",
       "      <th>mean</th>\n",
       "      <th>mean</th>\n",
       "      <th>mean</th>\n",
       "      <th>mean</th>\n",
       "      <th>mean</th>\n",
       "      <th></th>\n",
       "    </tr>\n",
       "    <tr>\n",
       "      <th>Date</th>\n",
       "      <th></th>\n",
       "      <th></th>\n",
       "      <th></th>\n",
       "      <th></th>\n",
       "      <th></th>\n",
       "      <th></th>\n",
       "      <th></th>\n",
       "    </tr>\n",
       "  </thead>\n",
       "  <tbody>\n",
       "    <tr>\n",
       "      <th>2018-10</th>\n",
       "      <td>11.430652</td>\n",
       "      <td>11.217826</td>\n",
       "      <td>11.328696</td>\n",
       "      <td>11.303478</td>\n",
       "      <td>1.436161e+06</td>\n",
       "      <td>9.100840</td>\n",
       "      <td>NaN</td>\n",
       "    </tr>\n",
       "    <tr>\n",
       "      <th>2018-11</th>\n",
       "      <td>11.248409</td>\n",
       "      <td>11.054545</td>\n",
       "      <td>11.155682</td>\n",
       "      <td>11.142045</td>\n",
       "      <td>1.137758e+06</td>\n",
       "      <td>9.055034</td>\n",
       "      <td>-0.503312</td>\n",
       "    </tr>\n",
       "    <tr>\n",
       "      <th>2018-12</th>\n",
       "      <td>11.099474</td>\n",
       "      <td>10.833684</td>\n",
       "      <td>10.975000</td>\n",
       "      <td>10.955526</td>\n",
       "      <td>1.452432e+06</td>\n",
       "      <td>8.903452</td>\n",
       "      <td>-1.674012</td>\n",
       "    </tr>\n",
       "    <tr>\n",
       "      <th>2019-01</th>\n",
       "      <td>11.341591</td>\n",
       "      <td>11.150000</td>\n",
       "      <td>11.235227</td>\n",
       "      <td>11.275227</td>\n",
       "      <td>1.132259e+06</td>\n",
       "      <td>9.163270</td>\n",
       "      <td>2.918170</td>\n",
       "    </tr>\n",
       "    <tr>\n",
       "      <th>2019-02</th>\n",
       "      <td>11.448000</td>\n",
       "      <td>11.267000</td>\n",
       "      <td>11.353250</td>\n",
       "      <td>11.333000</td>\n",
       "      <td>1.030770e+06</td>\n",
       "      <td>9.210221</td>\n",
       "      <td>0.512390</td>\n",
       "    </tr>\n",
       "  </tbody>\n",
       "</table>\n",
       "</div>"
      ],
      "text/plain": [
       "              High        Low       Open      Close        Volume Adj Close  \\\n",
       "              mean       mean       mean       mean          mean      mean   \n",
       "Date                                                                          \n",
       "2018-10  11.430652  11.217826  11.328696  11.303478  1.436161e+06  9.100840   \n",
       "2018-11  11.248409  11.054545  11.155682  11.142045  1.137758e+06  9.055034   \n",
       "2018-12  11.099474  10.833684  10.975000  10.955526  1.452432e+06  8.903452   \n",
       "2019-01  11.341591  11.150000  11.235227  11.275227  1.132259e+06  9.163270   \n",
       "2019-02  11.448000  11.267000  11.353250  11.333000  1.030770e+06  9.210221   \n",
       "\n",
       "        Variación Rentabilidad Mensual (%)  \n",
       "                                            \n",
       "Date                                        \n",
       "2018-10                                NaN  \n",
       "2018-11                          -0.503312  \n",
       "2018-12                          -1.674012  \n",
       "2019-01                           2.918170  \n",
       "2019-02                           0.512390  "
      ]
     },
     "execution_count": 7,
     "metadata": {},
     "output_type": "execute_result"
    }
   ],
   "source": [
    "# Añadimos una nueva columna con la variacion de la rentabilidad mensual\n",
    "merlin['Variación Rentabilidad Mensual (%)']=merlin['Adj Close'].pct_change().multiply(100)\n",
    "merlin.head()"
   ]
  },
  {
   "cell_type": "code",
   "execution_count": 8,
   "metadata": {},
   "outputs": [
    {
     "data": {
      "text/html": [
       "<div>\n",
       "<style scoped>\n",
       "    .dataframe tbody tr th:only-of-type {\n",
       "        vertical-align: middle;\n",
       "    }\n",
       "\n",
       "    .dataframe tbody tr th {\n",
       "        vertical-align: top;\n",
       "    }\n",
       "\n",
       "    .dataframe thead tr th {\n",
       "        text-align: left;\n",
       "    }\n",
       "\n",
       "    .dataframe thead tr:last-of-type th {\n",
       "        text-align: right;\n",
       "    }\n",
       "</style>\n",
       "<table border=\"1\" class=\"dataframe\">\n",
       "  <thead>\n",
       "    <tr>\n",
       "      <th></th>\n",
       "      <th>High</th>\n",
       "      <th>Low</th>\n",
       "      <th>Open</th>\n",
       "      <th>Close</th>\n",
       "      <th>Volume</th>\n",
       "      <th>Adj Close</th>\n",
       "      <th>Variación Rentabilidad Mensual (%)</th>\n",
       "      <th>Variación Rentabilidad Mensual Acumulada (%)</th>\n",
       "    </tr>\n",
       "    <tr>\n",
       "      <th></th>\n",
       "      <th>mean</th>\n",
       "      <th>mean</th>\n",
       "      <th>mean</th>\n",
       "      <th>mean</th>\n",
       "      <th>mean</th>\n",
       "      <th>mean</th>\n",
       "      <th></th>\n",
       "      <th></th>\n",
       "    </tr>\n",
       "    <tr>\n",
       "      <th>Date</th>\n",
       "      <th></th>\n",
       "      <th></th>\n",
       "      <th></th>\n",
       "      <th></th>\n",
       "      <th></th>\n",
       "      <th></th>\n",
       "      <th></th>\n",
       "      <th></th>\n",
       "    </tr>\n",
       "  </thead>\n",
       "  <tbody>\n",
       "    <tr>\n",
       "      <th>2018-10</th>\n",
       "      <td>11.430652</td>\n",
       "      <td>11.217826</td>\n",
       "      <td>11.328696</td>\n",
       "      <td>11.303478</td>\n",
       "      <td>1.436161e+06</td>\n",
       "      <td>9.100840</td>\n",
       "      <td>NaN</td>\n",
       "      <td>NaN</td>\n",
       "    </tr>\n",
       "    <tr>\n",
       "      <th>2018-11</th>\n",
       "      <td>11.248409</td>\n",
       "      <td>11.054545</td>\n",
       "      <td>11.155682</td>\n",
       "      <td>11.142045</td>\n",
       "      <td>1.137758e+06</td>\n",
       "      <td>9.055034</td>\n",
       "      <td>-0.503312</td>\n",
       "      <td>-0.503312</td>\n",
       "    </tr>\n",
       "    <tr>\n",
       "      <th>2018-12</th>\n",
       "      <td>11.099474</td>\n",
       "      <td>10.833684</td>\n",
       "      <td>10.975000</td>\n",
       "      <td>10.955526</td>\n",
       "      <td>1.452432e+06</td>\n",
       "      <td>8.903452</td>\n",
       "      <td>-1.674012</td>\n",
       "      <td>-2.177324</td>\n",
       "    </tr>\n",
       "    <tr>\n",
       "      <th>2019-01</th>\n",
       "      <td>11.341591</td>\n",
       "      <td>11.150000</td>\n",
       "      <td>11.235227</td>\n",
       "      <td>11.275227</td>\n",
       "      <td>1.132259e+06</td>\n",
       "      <td>9.163270</td>\n",
       "      <td>2.918170</td>\n",
       "      <td>0.740846</td>\n",
       "    </tr>\n",
       "    <tr>\n",
       "      <th>2019-02</th>\n",
       "      <td>11.448000</td>\n",
       "      <td>11.267000</td>\n",
       "      <td>11.353250</td>\n",
       "      <td>11.333000</td>\n",
       "      <td>1.030770e+06</td>\n",
       "      <td>9.210221</td>\n",
       "      <td>0.512390</td>\n",
       "      <td>1.253236</td>\n",
       "    </tr>\n",
       "  </tbody>\n",
       "</table>\n",
       "</div>"
      ],
      "text/plain": [
       "              High        Low       Open      Close        Volume Adj Close  \\\n",
       "              mean       mean       mean       mean          mean      mean   \n",
       "Date                                                                          \n",
       "2018-10  11.430652  11.217826  11.328696  11.303478  1.436161e+06  9.100840   \n",
       "2018-11  11.248409  11.054545  11.155682  11.142045  1.137758e+06  9.055034   \n",
       "2018-12  11.099474  10.833684  10.975000  10.955526  1.452432e+06  8.903452   \n",
       "2019-01  11.341591  11.150000  11.235227  11.275227  1.132259e+06  9.163270   \n",
       "2019-02  11.448000  11.267000  11.353250  11.333000  1.030770e+06  9.210221   \n",
       "\n",
       "        Variación Rentabilidad Mensual (%)  \\\n",
       "                                             \n",
       "Date                                         \n",
       "2018-10                                NaN   \n",
       "2018-11                          -0.503312   \n",
       "2018-12                          -1.674012   \n",
       "2019-01                           2.918170   \n",
       "2019-02                           0.512390   \n",
       "\n",
       "        Variación Rentabilidad Mensual Acumulada (%)  \n",
       "                                                      \n",
       "Date                                                  \n",
       "2018-10                                          NaN  \n",
       "2018-11                                    -0.503312  \n",
       "2018-12                                    -2.177324  \n",
       "2019-01                                     0.740846  \n",
       "2019-02                                     1.253236  "
      ]
     },
     "execution_count": 8,
     "metadata": {},
     "output_type": "execute_result"
    }
   ],
   "source": [
    "# Añadimos una columna con la variacion acumulada\n",
    "merlin['Variación Rentabilidad Mensual Acumulada (%)']= merlin['Variación Rentabilidad Mensual (%)'].cumsum()\n",
    "merlin.head()"
   ]
  },
  {
   "cell_type": "code",
   "execution_count": 9,
   "metadata": {},
   "outputs": [
    {
     "data": {
      "text/html": [
       "<div>\n",
       "<style scoped>\n",
       "    .dataframe tbody tr th:only-of-type {\n",
       "        vertical-align: middle;\n",
       "    }\n",
       "\n",
       "    .dataframe tbody tr th {\n",
       "        vertical-align: top;\n",
       "    }\n",
       "\n",
       "    .dataframe thead tr th {\n",
       "        text-align: left;\n",
       "    }\n",
       "\n",
       "    .dataframe thead tr:last-of-type th {\n",
       "        text-align: right;\n",
       "    }\n",
       "</style>\n",
       "<table border=\"1\" class=\"dataframe\">\n",
       "  <thead>\n",
       "    <tr>\n",
       "      <th></th>\n",
       "      <th>Adj Close</th>\n",
       "      <th>Variación Rentabilidad Mensual (%)</th>\n",
       "      <th>Variación Rentabilidad Mensual Acumulada (%)</th>\n",
       "    </tr>\n",
       "    <tr>\n",
       "      <th></th>\n",
       "      <th>mean</th>\n",
       "      <th></th>\n",
       "      <th></th>\n",
       "    </tr>\n",
       "    <tr>\n",
       "      <th>Date</th>\n",
       "      <th></th>\n",
       "      <th></th>\n",
       "      <th></th>\n",
       "    </tr>\n",
       "  </thead>\n",
       "  <tbody>\n",
       "    <tr>\n",
       "      <th>2018-10</th>\n",
       "      <td>9.100840</td>\n",
       "      <td>NaN</td>\n",
       "      <td>NaN</td>\n",
       "    </tr>\n",
       "    <tr>\n",
       "      <th>2018-11</th>\n",
       "      <td>9.055034</td>\n",
       "      <td>-0.503312</td>\n",
       "      <td>-0.503312</td>\n",
       "    </tr>\n",
       "    <tr>\n",
       "      <th>2018-12</th>\n",
       "      <td>8.903452</td>\n",
       "      <td>-1.674012</td>\n",
       "      <td>-2.177324</td>\n",
       "    </tr>\n",
       "    <tr>\n",
       "      <th>2019-01</th>\n",
       "      <td>9.163270</td>\n",
       "      <td>2.918170</td>\n",
       "      <td>0.740846</td>\n",
       "    </tr>\n",
       "    <tr>\n",
       "      <th>2019-02</th>\n",
       "      <td>9.210221</td>\n",
       "      <td>0.512390</td>\n",
       "      <td>1.253236</td>\n",
       "    </tr>\n",
       "  </tbody>\n",
       "</table>\n",
       "</div>"
      ],
      "text/plain": [
       "        Adj Close Variación Rentabilidad Mensual (%)  \\\n",
       "             mean                                      \n",
       "Date                                                   \n",
       "2018-10  9.100840                                NaN   \n",
       "2018-11  9.055034                          -0.503312   \n",
       "2018-12  8.903452                          -1.674012   \n",
       "2019-01  9.163270                           2.918170   \n",
       "2019-02  9.210221                           0.512390   \n",
       "\n",
       "        Variación Rentabilidad Mensual Acumulada (%)  \n",
       "                                                      \n",
       "Date                                                  \n",
       "2018-10                                          NaN  \n",
       "2018-11                                    -0.503312  \n",
       "2018-12                                    -2.177324  \n",
       "2019-01                                     0.740846  \n",
       "2019-02                                     1.253236  "
      ]
     },
     "execution_count": 9,
     "metadata": {},
     "output_type": "execute_result"
    }
   ],
   "source": [
    "# Seleccionamos solo las columnas que queremos\n",
    "merlin=merlin[['Adj Close','Variación Rentabilidad Mensual (%)','Variación Rentabilidad Mensual Acumulada (%)']]\n",
    "merlin.head()"
   ]
  },
  {
   "cell_type": "code",
   "execution_count": 10,
   "metadata": {},
   "outputs": [
    {
     "data": {
      "text/html": [
       "<div>\n",
       "<style scoped>\n",
       "    .dataframe tbody tr th:only-of-type {\n",
       "        vertical-align: middle;\n",
       "    }\n",
       "\n",
       "    .dataframe tbody tr th {\n",
       "        vertical-align: top;\n",
       "    }\n",
       "\n",
       "    .dataframe thead th {\n",
       "        text-align: right;\n",
       "    }\n",
       "</style>\n",
       "<table border=\"1\" class=\"dataframe\">\n",
       "  <thead>\n",
       "    <tr style=\"text-align: right;\">\n",
       "      <th></th>\n",
       "      <th>Adj Close Mensual</th>\n",
       "      <th>Variación Rentabilidad Mensual (%)</th>\n",
       "      <th>Variación Rentabilidad Mensual Acumulada (%)</th>\n",
       "    </tr>\n",
       "    <tr>\n",
       "      <th>Date</th>\n",
       "      <th></th>\n",
       "      <th></th>\n",
       "      <th></th>\n",
       "    </tr>\n",
       "  </thead>\n",
       "  <tbody>\n",
       "    <tr>\n",
       "      <th>2018-10</th>\n",
       "      <td>9.100840</td>\n",
       "      <td>NaN</td>\n",
       "      <td>NaN</td>\n",
       "    </tr>\n",
       "    <tr>\n",
       "      <th>2018-11</th>\n",
       "      <td>9.055034</td>\n",
       "      <td>-0.503312</td>\n",
       "      <td>-0.503312</td>\n",
       "    </tr>\n",
       "    <tr>\n",
       "      <th>2018-12</th>\n",
       "      <td>8.903452</td>\n",
       "      <td>-1.674012</td>\n",
       "      <td>-2.177324</td>\n",
       "    </tr>\n",
       "    <tr>\n",
       "      <th>2019-01</th>\n",
       "      <td>9.163270</td>\n",
       "      <td>2.918170</td>\n",
       "      <td>0.740846</td>\n",
       "    </tr>\n",
       "    <tr>\n",
       "      <th>2019-02</th>\n",
       "      <td>9.210221</td>\n",
       "      <td>0.512390</td>\n",
       "      <td>1.253236</td>\n",
       "    </tr>\n",
       "  </tbody>\n",
       "</table>\n",
       "</div>"
      ],
      "text/plain": [
       "         Adj Close Mensual  Variación Rentabilidad Mensual (%)  \\\n",
       "Date                                                             \n",
       "2018-10           9.100840                                 NaN   \n",
       "2018-11           9.055034                           -0.503312   \n",
       "2018-12           8.903452                           -1.674012   \n",
       "2019-01           9.163270                            2.918170   \n",
       "2019-02           9.210221                            0.512390   \n",
       "\n",
       "         Variación Rentabilidad Mensual Acumulada (%)  \n",
       "Date                                                   \n",
       "2018-10                                           NaN  \n",
       "2018-11                                     -0.503312  \n",
       "2018-12                                     -2.177324  \n",
       "2019-01                                      0.740846  \n",
       "2019-02                                      1.253236  "
      ]
     },
     "execution_count": 10,
     "metadata": {},
     "output_type": "execute_result"
    }
   ],
   "source": [
    "# Unificamos los nombres de cada columna\n",
    "merlin.columns=['Adj Close Mensual','Variación Rentabilidad Mensual (%)','Variación Rentabilidad Mensual Acumulada (%)']\n",
    "merlin.head()"
   ]
  },
  {
   "cell_type": "code",
   "execution_count": 11,
   "metadata": {},
   "outputs": [
    {
     "name": "stdout",
     "output_type": "stream",
     "text": [
      "(44, 3)\n"
     ]
    },
    {
     "data": {
      "text/html": [
       "<div>\n",
       "<style scoped>\n",
       "    .dataframe tbody tr th:only-of-type {\n",
       "        vertical-align: middle;\n",
       "    }\n",
       "\n",
       "    .dataframe tbody tr th {\n",
       "        vertical-align: top;\n",
       "    }\n",
       "\n",
       "    .dataframe thead th {\n",
       "        text-align: right;\n",
       "    }\n",
       "</style>\n",
       "<table border=\"1\" class=\"dataframe\">\n",
       "  <thead>\n",
       "    <tr style=\"text-align: right;\">\n",
       "      <th></th>\n",
       "      <th>Adj Close Mensual</th>\n",
       "      <th>Variación Rentabilidad Mensual (%)</th>\n",
       "      <th>Variación Rentabilidad Mensual Acumulada (%)</th>\n",
       "    </tr>\n",
       "    <tr>\n",
       "      <th>Date</th>\n",
       "      <th></th>\n",
       "      <th></th>\n",
       "      <th></th>\n",
       "    </tr>\n",
       "  </thead>\n",
       "  <tbody>\n",
       "    <tr>\n",
       "      <th>2018-10</th>\n",
       "      <td>9.100840</td>\n",
       "      <td>NaN</td>\n",
       "      <td>NaN</td>\n",
       "    </tr>\n",
       "    <tr>\n",
       "      <th>2018-11</th>\n",
       "      <td>9.055034</td>\n",
       "      <td>-0.503312</td>\n",
       "      <td>-0.503312</td>\n",
       "    </tr>\n",
       "    <tr>\n",
       "      <th>2018-12</th>\n",
       "      <td>8.903452</td>\n",
       "      <td>-1.674012</td>\n",
       "      <td>-2.177324</td>\n",
       "    </tr>\n",
       "    <tr>\n",
       "      <th>2019-01</th>\n",
       "      <td>9.163270</td>\n",
       "      <td>2.918170</td>\n",
       "      <td>0.740846</td>\n",
       "    </tr>\n",
       "    <tr>\n",
       "      <th>2019-02</th>\n",
       "      <td>9.210221</td>\n",
       "      <td>0.512390</td>\n",
       "      <td>1.253236</td>\n",
       "    </tr>\n",
       "  </tbody>\n",
       "</table>\n",
       "</div>"
      ],
      "text/plain": [
       "         Adj Close Mensual  Variación Rentabilidad Mensual (%)  \\\n",
       "Date                                                             \n",
       "2018-10           9.100840                                 NaN   \n",
       "2018-11           9.055034                           -0.503312   \n",
       "2018-12           8.903452                           -1.674012   \n",
       "2019-01           9.163270                            2.918170   \n",
       "2019-02           9.210221                            0.512390   \n",
       "\n",
       "         Variación Rentabilidad Mensual Acumulada (%)  \n",
       "Date                                                   \n",
       "2018-10                                           NaN  \n",
       "2018-11                                     -0.503312  \n",
       "2018-12                                     -2.177324  \n",
       "2019-01                                      0.740846  \n",
       "2019-02                                      1.253236  "
      ]
     },
     "execution_count": 11,
     "metadata": {},
     "output_type": "execute_result"
    }
   ],
   "source": [
    "print(merlin.shape)\n",
    "merlin.head()"
   ]
  },
  {
   "cell_type": "code",
   "execution_count": 12,
   "metadata": {},
   "outputs": [
    {
     "data": {
      "text/html": [
       "<div>\n",
       "<style scoped>\n",
       "    .dataframe tbody tr th:only-of-type {\n",
       "        vertical-align: middle;\n",
       "    }\n",
       "\n",
       "    .dataframe tbody tr th {\n",
       "        vertical-align: top;\n",
       "    }\n",
       "\n",
       "    .dataframe thead th {\n",
       "        text-align: right;\n",
       "    }\n",
       "</style>\n",
       "<table border=\"1\" class=\"dataframe\">\n",
       "  <thead>\n",
       "    <tr style=\"text-align: right;\">\n",
       "      <th></th>\n",
       "      <th>Variación Rentabilidad Mensual Acumulada (%)</th>\n",
       "    </tr>\n",
       "    <tr>\n",
       "      <th>Date</th>\n",
       "      <th></th>\n",
       "    </tr>\n",
       "  </thead>\n",
       "  <tbody>\n",
       "    <tr>\n",
       "      <th>2018-11</th>\n",
       "      <td>-0.503312</td>\n",
       "    </tr>\n",
       "    <tr>\n",
       "      <th>2018-12</th>\n",
       "      <td>-2.177324</td>\n",
       "    </tr>\n",
       "    <tr>\n",
       "      <th>2019-01</th>\n",
       "      <td>0.740846</td>\n",
       "    </tr>\n",
       "    <tr>\n",
       "      <th>2019-02</th>\n",
       "      <td>1.253236</td>\n",
       "    </tr>\n",
       "    <tr>\n",
       "      <th>2019-03</th>\n",
       "      <td>2.693192</td>\n",
       "    </tr>\n",
       "  </tbody>\n",
       "</table>\n",
       "</div>"
      ],
      "text/plain": [
       "         Variación Rentabilidad Mensual Acumulada (%)\n",
       "Date                                                 \n",
       "2018-11                                     -0.503312\n",
       "2018-12                                     -2.177324\n",
       "2019-01                                      0.740846\n",
       "2019-02                                      1.253236\n",
       "2019-03                                      2.693192"
      ]
     },
     "execution_count": 12,
     "metadata": {},
     "output_type": "execute_result"
    }
   ],
   "source": [
    "merlin_VA=merlin[['Variación Rentabilidad Mensual Acumulada (%)']]\n",
    "merlin_VA=merlin_VA.drop(merlin_VA.index[:1])\n",
    "merlin_VA.head()"
   ]
  },
  {
   "cell_type": "markdown",
   "metadata": {},
   "source": [
    "# Colonial\n",
    "### 01 junio 2002"
   ]
  },
  {
   "cell_type": "code",
   "execution_count": 13,
   "metadata": {},
   "outputs": [],
   "source": [
    "def var_mensual_acumulada(n_empresa, ticker, fecha_inicio, fecha_fin):\n",
    "    n_empresa = web.DataReader(ticker, 'yahoo', fecha_inicio, fecha_fin)\n",
    "    n_empresa=n_empresa.reset_index()\n",
    "    n_empresa['Date']=n_empresa['Date'].astype(str)\n",
    "    n_empresa['Date']=n_empresa['Date'].str.slice_replace(7,repl='')\n",
    "    n_empresa=n_empresa.groupby('Date').aggregate([np.mean])\n",
    "    n_empresa['Variación Rentabilidad Mensual (%)']=n_empresa['Adj Close'].pct_change().multiply(100)\n",
    "    n_empresa['Variación Rentabilidad Mensual Acumulada (%)']= n_empresa['Variación Rentabilidad Mensual (%)'].cumsum()\n",
    "    n_empresa=n_empresa[['Adj Close','Variación Rentabilidad Mensual (%)','Variación Rentabilidad Mensual Acumulada (%)']]\n",
    "    n_empresa.columns=['Adj Close Mensual','Variación Rentabilidad Mensual (%)','Variación Rentabilidad Mensual Acumulada (%)']\n",
    "    return n_empresa"
   ]
  },
  {
   "cell_type": "code",
   "execution_count": 14,
   "metadata": {},
   "outputs": [
    {
     "data": {
      "text/html": [
       "<div>\n",
       "<style scoped>\n",
       "    .dataframe tbody tr th:only-of-type {\n",
       "        vertical-align: middle;\n",
       "    }\n",
       "\n",
       "    .dataframe tbody tr th {\n",
       "        vertical-align: top;\n",
       "    }\n",
       "\n",
       "    .dataframe thead th {\n",
       "        text-align: right;\n",
       "    }\n",
       "</style>\n",
       "<table border=\"1\" class=\"dataframe\">\n",
       "  <thead>\n",
       "    <tr style=\"text-align: right;\">\n",
       "      <th></th>\n",
       "      <th>Adj Close Mensual</th>\n",
       "      <th>Variación Rentabilidad Mensual (%)</th>\n",
       "      <th>Variación Rentabilidad Mensual Acumulada (%)</th>\n",
       "    </tr>\n",
       "    <tr>\n",
       "      <th>Date</th>\n",
       "      <th></th>\n",
       "      <th></th>\n",
       "      <th></th>\n",
       "    </tr>\n",
       "  </thead>\n",
       "  <tbody>\n",
       "    <tr>\n",
       "      <th>2018-10</th>\n",
       "      <td>7.851657</td>\n",
       "      <td>NaN</td>\n",
       "      <td>NaN</td>\n",
       "    </tr>\n",
       "    <tr>\n",
       "      <th>2018-11</th>\n",
       "      <td>7.874529</td>\n",
       "      <td>0.291301</td>\n",
       "      <td>0.291301</td>\n",
       "    </tr>\n",
       "    <tr>\n",
       "      <th>2018-12</th>\n",
       "      <td>7.592499</td>\n",
       "      <td>-3.581555</td>\n",
       "      <td>-3.290254</td>\n",
       "    </tr>\n",
       "    <tr>\n",
       "      <th>2019-01</th>\n",
       "      <td>7.752882</td>\n",
       "      <td>2.112392</td>\n",
       "      <td>-1.177862</td>\n",
       "    </tr>\n",
       "    <tr>\n",
       "      <th>2019-02</th>\n",
       "      <td>7.877906</td>\n",
       "      <td>1.612617</td>\n",
       "      <td>0.434755</td>\n",
       "    </tr>\n",
       "  </tbody>\n",
       "</table>\n",
       "</div>"
      ],
      "text/plain": [
       "         Adj Close Mensual  Variación Rentabilidad Mensual (%)  \\\n",
       "Date                                                             \n",
       "2018-10           7.851657                                 NaN   \n",
       "2018-11           7.874529                            0.291301   \n",
       "2018-12           7.592499                           -3.581555   \n",
       "2019-01           7.752882                            2.112392   \n",
       "2019-02           7.877906                            1.612617   \n",
       "\n",
       "         Variación Rentabilidad Mensual Acumulada (%)  \n",
       "Date                                                   \n",
       "2018-10                                           NaN  \n",
       "2018-11                                      0.291301  \n",
       "2018-12                                     -3.290254  \n",
       "2019-01                                     -1.177862  \n",
       "2019-02                                      0.434755  "
      ]
     },
     "execution_count": 14,
     "metadata": {},
     "output_type": "execute_result"
    }
   ],
   "source": [
    "colonial=var_mensual_acumulada('colonial', 'COL.MC' , '2018-10-01', '2022-09-26')\n",
    "colonial.head()"
   ]
  },
  {
   "cell_type": "code",
   "execution_count": 15,
   "metadata": {},
   "outputs": [
    {
     "data": {
      "text/html": [
       "<div>\n",
       "<style scoped>\n",
       "    .dataframe tbody tr th:only-of-type {\n",
       "        vertical-align: middle;\n",
       "    }\n",
       "\n",
       "    .dataframe tbody tr th {\n",
       "        vertical-align: top;\n",
       "    }\n",
       "\n",
       "    .dataframe thead th {\n",
       "        text-align: right;\n",
       "    }\n",
       "</style>\n",
       "<table border=\"1\" class=\"dataframe\">\n",
       "  <thead>\n",
       "    <tr style=\"text-align: right;\">\n",
       "      <th></th>\n",
       "      <th>Variación Rentabilidad Mensual Acumulada (%)</th>\n",
       "    </tr>\n",
       "    <tr>\n",
       "      <th>Date</th>\n",
       "      <th></th>\n",
       "    </tr>\n",
       "  </thead>\n",
       "  <tbody>\n",
       "    <tr>\n",
       "      <th>2018-11</th>\n",
       "      <td>0.291301</td>\n",
       "    </tr>\n",
       "    <tr>\n",
       "      <th>2018-12</th>\n",
       "      <td>-3.290254</td>\n",
       "    </tr>\n",
       "    <tr>\n",
       "      <th>2019-01</th>\n",
       "      <td>-1.177862</td>\n",
       "    </tr>\n",
       "    <tr>\n",
       "      <th>2019-02</th>\n",
       "      <td>0.434755</td>\n",
       "    </tr>\n",
       "    <tr>\n",
       "      <th>2019-03</th>\n",
       "      <td>4.126495</td>\n",
       "    </tr>\n",
       "  </tbody>\n",
       "</table>\n",
       "</div>"
      ],
      "text/plain": [
       "         Variación Rentabilidad Mensual Acumulada (%)\n",
       "Date                                                 \n",
       "2018-11                                      0.291301\n",
       "2018-12                                     -3.290254\n",
       "2019-01                                     -1.177862\n",
       "2019-02                                      0.434755\n",
       "2019-03                                      4.126495"
      ]
     },
     "execution_count": 15,
     "metadata": {},
     "output_type": "execute_result"
    }
   ],
   "source": [
    "colonial_VA=colonial[['Variación Rentabilidad Mensual Acumulada (%)']]\n",
    "colonial_VA=colonial_VA.drop(colonial_VA.index[:1])\n",
    "colonial_VA.head()"
   ]
  },
  {
   "cell_type": "markdown",
   "metadata": {},
   "source": [
    "# Lar\n",
    "### 3 marzo 2014"
   ]
  },
  {
   "cell_type": "code",
   "execution_count": 16,
   "metadata": {},
   "outputs": [
    {
     "data": {
      "text/html": [
       "<div>\n",
       "<style scoped>\n",
       "    .dataframe tbody tr th:only-of-type {\n",
       "        vertical-align: middle;\n",
       "    }\n",
       "\n",
       "    .dataframe tbody tr th {\n",
       "        vertical-align: top;\n",
       "    }\n",
       "\n",
       "    .dataframe thead th {\n",
       "        text-align: right;\n",
       "    }\n",
       "</style>\n",
       "<table border=\"1\" class=\"dataframe\">\n",
       "  <thead>\n",
       "    <tr style=\"text-align: right;\">\n",
       "      <th></th>\n",
       "      <th>Adj Close Mensual</th>\n",
       "      <th>Variación Rentabilidad Mensual (%)</th>\n",
       "      <th>Variación Rentabilidad Mensual Acumulada (%)</th>\n",
       "    </tr>\n",
       "    <tr>\n",
       "      <th>Date</th>\n",
       "      <th></th>\n",
       "      <th></th>\n",
       "      <th></th>\n",
       "    </tr>\n",
       "  </thead>\n",
       "  <tbody>\n",
       "    <tr>\n",
       "      <th>2018-10</th>\n",
       "      <td>6.599950</td>\n",
       "      <td>NaN</td>\n",
       "      <td>NaN</td>\n",
       "    </tr>\n",
       "    <tr>\n",
       "      <th>2018-11</th>\n",
       "      <td>6.633154</td>\n",
       "      <td>0.503097</td>\n",
       "      <td>0.503097</td>\n",
       "    </tr>\n",
       "    <tr>\n",
       "      <th>2018-12</th>\n",
       "      <td>6.168482</td>\n",
       "      <td>-7.005296</td>\n",
       "      <td>-6.502199</td>\n",
       "    </tr>\n",
       "    <tr>\n",
       "      <th>2019-01</th>\n",
       "      <td>6.140885</td>\n",
       "      <td>-0.447375</td>\n",
       "      <td>-6.949574</td>\n",
       "    </tr>\n",
       "    <tr>\n",
       "      <th>2019-02</th>\n",
       "      <td>6.421143</td>\n",
       "      <td>4.563804</td>\n",
       "      <td>-2.385770</td>\n",
       "    </tr>\n",
       "  </tbody>\n",
       "</table>\n",
       "</div>"
      ],
      "text/plain": [
       "         Adj Close Mensual  Variación Rentabilidad Mensual (%)  \\\n",
       "Date                                                             \n",
       "2018-10           6.599950                                 NaN   \n",
       "2018-11           6.633154                            0.503097   \n",
       "2018-12           6.168482                           -7.005296   \n",
       "2019-01           6.140885                           -0.447375   \n",
       "2019-02           6.421143                            4.563804   \n",
       "\n",
       "         Variación Rentabilidad Mensual Acumulada (%)  \n",
       "Date                                                   \n",
       "2018-10                                           NaN  \n",
       "2018-11                                      0.503097  \n",
       "2018-12                                     -6.502199  \n",
       "2019-01                                     -6.949574  \n",
       "2019-02                                     -2.385770  "
      ]
     },
     "execution_count": 16,
     "metadata": {},
     "output_type": "execute_result"
    }
   ],
   "source": [
    "lar=var_mensual_acumulada('lar', 'LRE.MC' , '2018-10-01', '2022-09-26')\n",
    "lar.head()"
   ]
  },
  {
   "cell_type": "code",
   "execution_count": 17,
   "metadata": {},
   "outputs": [
    {
     "data": {
      "text/html": [
       "<div>\n",
       "<style scoped>\n",
       "    .dataframe tbody tr th:only-of-type {\n",
       "        vertical-align: middle;\n",
       "    }\n",
       "\n",
       "    .dataframe tbody tr th {\n",
       "        vertical-align: top;\n",
       "    }\n",
       "\n",
       "    .dataframe thead th {\n",
       "        text-align: right;\n",
       "    }\n",
       "</style>\n",
       "<table border=\"1\" class=\"dataframe\">\n",
       "  <thead>\n",
       "    <tr style=\"text-align: right;\">\n",
       "      <th></th>\n",
       "      <th>Variación Rentabilidad Mensual Acumulada (%)</th>\n",
       "    </tr>\n",
       "    <tr>\n",
       "      <th>Date</th>\n",
       "      <th></th>\n",
       "    </tr>\n",
       "  </thead>\n",
       "  <tbody>\n",
       "    <tr>\n",
       "      <th>2018-11</th>\n",
       "      <td>0.503097</td>\n",
       "    </tr>\n",
       "    <tr>\n",
       "      <th>2018-12</th>\n",
       "      <td>-6.502199</td>\n",
       "    </tr>\n",
       "    <tr>\n",
       "      <th>2019-01</th>\n",
       "      <td>-6.949574</td>\n",
       "    </tr>\n",
       "    <tr>\n",
       "      <th>2019-02</th>\n",
       "      <td>-2.385770</td>\n",
       "    </tr>\n",
       "    <tr>\n",
       "      <th>2019-03</th>\n",
       "      <td>-8.379700</td>\n",
       "    </tr>\n",
       "  </tbody>\n",
       "</table>\n",
       "</div>"
      ],
      "text/plain": [
       "         Variación Rentabilidad Mensual Acumulada (%)\n",
       "Date                                                 \n",
       "2018-11                                      0.503097\n",
       "2018-12                                     -6.502199\n",
       "2019-01                                     -6.949574\n",
       "2019-02                                     -2.385770\n",
       "2019-03                                     -8.379700"
      ]
     },
     "execution_count": 17,
     "metadata": {},
     "output_type": "execute_result"
    }
   ],
   "source": [
    "lar_VA=lar[['Variación Rentabilidad Mensual Acumulada (%)']]\n",
    "lar_VA=lar_VA.drop(lar_VA.index[:1])\n",
    "lar_VA.head()"
   ]
  },
  {
   "cell_type": "markdown",
   "metadata": {},
   "source": [
    "# Arima\n",
    "### 22 octubre 2018"
   ]
  },
  {
   "cell_type": "code",
   "execution_count": 18,
   "metadata": {},
   "outputs": [
    {
     "data": {
      "text/html": [
       "<div>\n",
       "<style scoped>\n",
       "    .dataframe tbody tr th:only-of-type {\n",
       "        vertical-align: middle;\n",
       "    }\n",
       "\n",
       "    .dataframe tbody tr th {\n",
       "        vertical-align: top;\n",
       "    }\n",
       "\n",
       "    .dataframe thead th {\n",
       "        text-align: right;\n",
       "    }\n",
       "</style>\n",
       "<table border=\"1\" class=\"dataframe\">\n",
       "  <thead>\n",
       "    <tr style=\"text-align: right;\">\n",
       "      <th></th>\n",
       "      <th>Adj Close Mensual</th>\n",
       "      <th>Variación Rentabilidad Mensual (%)</th>\n",
       "      <th>Variación Rentabilidad Mensual Acumulada (%)</th>\n",
       "    </tr>\n",
       "    <tr>\n",
       "      <th>Date</th>\n",
       "      <th></th>\n",
       "      <th></th>\n",
       "      <th></th>\n",
       "    </tr>\n",
       "  </thead>\n",
       "  <tbody>\n",
       "    <tr>\n",
       "      <th>2018-10</th>\n",
       "      <td>9.371429</td>\n",
       "      <td>NaN</td>\n",
       "      <td>NaN</td>\n",
       "    </tr>\n",
       "    <tr>\n",
       "      <th>2018-11</th>\n",
       "      <td>9.350000</td>\n",
       "      <td>-0.228660</td>\n",
       "      <td>-0.228660</td>\n",
       "    </tr>\n",
       "    <tr>\n",
       "      <th>2018-12</th>\n",
       "      <td>9.238947</td>\n",
       "      <td>-1.187728</td>\n",
       "      <td>-1.416388</td>\n",
       "    </tr>\n",
       "    <tr>\n",
       "      <th>2019-01</th>\n",
       "      <td>9.143636</td>\n",
       "      <td>-1.031622</td>\n",
       "      <td>-2.448010</td>\n",
       "    </tr>\n",
       "    <tr>\n",
       "      <th>2019-02</th>\n",
       "      <td>9.321000</td>\n",
       "      <td>1.939751</td>\n",
       "      <td>-0.508259</td>\n",
       "    </tr>\n",
       "  </tbody>\n",
       "</table>\n",
       "</div>"
      ],
      "text/plain": [
       "         Adj Close Mensual  Variación Rentabilidad Mensual (%)  \\\n",
       "Date                                                             \n",
       "2018-10           9.371429                                 NaN   \n",
       "2018-11           9.350000                           -0.228660   \n",
       "2018-12           9.238947                           -1.187728   \n",
       "2019-01           9.143636                           -1.031622   \n",
       "2019-02           9.321000                            1.939751   \n",
       "\n",
       "         Variación Rentabilidad Mensual Acumulada (%)  \n",
       "Date                                                   \n",
       "2018-10                                           NaN  \n",
       "2018-11                                     -0.228660  \n",
       "2018-12                                     -1.416388  \n",
       "2019-01                                     -2.448010  \n",
       "2019-02                                     -0.508259  "
      ]
     },
     "execution_count": 18,
     "metadata": {},
     "output_type": "execute_result"
    }
   ],
   "source": [
    "arima=var_mensual_acumulada('arima', 'ARM.MC' , '2018-10-01', '2022-09-26')\n",
    "arima.head()"
   ]
  },
  {
   "cell_type": "code",
   "execution_count": 19,
   "metadata": {},
   "outputs": [
    {
     "data": {
      "text/html": [
       "<div>\n",
       "<style scoped>\n",
       "    .dataframe tbody tr th:only-of-type {\n",
       "        vertical-align: middle;\n",
       "    }\n",
       "\n",
       "    .dataframe tbody tr th {\n",
       "        vertical-align: top;\n",
       "    }\n",
       "\n",
       "    .dataframe thead th {\n",
       "        text-align: right;\n",
       "    }\n",
       "</style>\n",
       "<table border=\"1\" class=\"dataframe\">\n",
       "  <thead>\n",
       "    <tr style=\"text-align: right;\">\n",
       "      <th></th>\n",
       "      <th>Adj Close Mensual</th>\n",
       "      <th>Variación Rentabilidad Mensual (%)</th>\n",
       "      <th>Variación Rentabilidad Mensual Acumulada (%)</th>\n",
       "    </tr>\n",
       "    <tr>\n",
       "      <th>Date</th>\n",
       "      <th></th>\n",
       "      <th></th>\n",
       "      <th></th>\n",
       "    </tr>\n",
       "  </thead>\n",
       "  <tbody>\n",
       "    <tr>\n",
       "      <th>2018-10</th>\n",
       "      <td>9.371429</td>\n",
       "      <td>NaN</td>\n",
       "      <td>NaN</td>\n",
       "    </tr>\n",
       "    <tr>\n",
       "      <th>2018-11</th>\n",
       "      <td>9.350000</td>\n",
       "      <td>-0.228660</td>\n",
       "      <td>-0.228660</td>\n",
       "    </tr>\n",
       "    <tr>\n",
       "      <th>2018-12</th>\n",
       "      <td>9.238947</td>\n",
       "      <td>-1.187728</td>\n",
       "      <td>-1.416388</td>\n",
       "    </tr>\n",
       "    <tr>\n",
       "      <th>2019-01</th>\n",
       "      <td>9.143636</td>\n",
       "      <td>-1.031622</td>\n",
       "      <td>-2.448010</td>\n",
       "    </tr>\n",
       "    <tr>\n",
       "      <th>2019-02</th>\n",
       "      <td>9.321000</td>\n",
       "      <td>1.939751</td>\n",
       "      <td>-0.508259</td>\n",
       "    </tr>\n",
       "  </tbody>\n",
       "</table>\n",
       "</div>"
      ],
      "text/plain": [
       "         Adj Close Mensual  Variación Rentabilidad Mensual (%)  \\\n",
       "Date                                                             \n",
       "2018-10           9.371429                                 NaN   \n",
       "2018-11           9.350000                           -0.228660   \n",
       "2018-12           9.238947                           -1.187728   \n",
       "2019-01           9.143636                           -1.031622   \n",
       "2019-02           9.321000                            1.939751   \n",
       "\n",
       "         Variación Rentabilidad Mensual Acumulada (%)  \n",
       "Date                                                   \n",
       "2018-10                                           NaN  \n",
       "2018-11                                     -0.228660  \n",
       "2018-12                                     -1.416388  \n",
       "2019-01                                     -2.448010  \n",
       "2019-02                                     -0.508259  "
      ]
     },
     "execution_count": 19,
     "metadata": {},
     "output_type": "execute_result"
    }
   ],
   "source": [
    "arima_VA=arima[['Variación Rentabilidad Mensual Acumulada (%)']]\n",
    "arima_VA=arima_VA.drop(arima_VA.index[:1])\n",
    "arima.head()"
   ]
  },
  {
   "cell_type": "markdown",
   "metadata": {},
   "source": [
    "# Olimpo, Prevision Sanitaia, Galil Capital, Meridia, Albirana, Adriano Care,"
   ]
  },
  {
   "cell_type": "markdown",
   "metadata": {},
   "source": [
    "# IBEX35"
   ]
  },
  {
   "cell_type": "code",
   "execution_count": 20,
   "metadata": {},
   "outputs": [
    {
     "data": {
      "text/html": [
       "<div>\n",
       "<style scoped>\n",
       "    .dataframe tbody tr th:only-of-type {\n",
       "        vertical-align: middle;\n",
       "    }\n",
       "\n",
       "    .dataframe tbody tr th {\n",
       "        vertical-align: top;\n",
       "    }\n",
       "\n",
       "    .dataframe thead th {\n",
       "        text-align: right;\n",
       "    }\n",
       "</style>\n",
       "<table border=\"1\" class=\"dataframe\">\n",
       "  <thead>\n",
       "    <tr style=\"text-align: right;\">\n",
       "      <th></th>\n",
       "      <th>Adj Close Mensual</th>\n",
       "      <th>Variación Rentabilidad Mensual (%)</th>\n",
       "      <th>Variación Rentabilidad Mensual Acumulada (%)</th>\n",
       "    </tr>\n",
       "    <tr>\n",
       "      <th>Date</th>\n",
       "      <th></th>\n",
       "      <th></th>\n",
       "      <th></th>\n",
       "    </tr>\n",
       "  </thead>\n",
       "  <tbody>\n",
       "    <tr>\n",
       "      <th>2018-10</th>\n",
       "      <td>9008.617442</td>\n",
       "      <td>NaN</td>\n",
       "      <td>NaN</td>\n",
       "    </tr>\n",
       "    <tr>\n",
       "      <th>2018-11</th>\n",
       "      <td>9045.345481</td>\n",
       "      <td>0.407699</td>\n",
       "      <td>0.407699</td>\n",
       "    </tr>\n",
       "    <tr>\n",
       "      <th>2018-12</th>\n",
       "      <td>8747.821032</td>\n",
       "      <td>-3.289255</td>\n",
       "      <td>-2.881556</td>\n",
       "    </tr>\n",
       "    <tr>\n",
       "      <th>2019-01</th>\n",
       "      <td>8928.013494</td>\n",
       "      <td>2.059855</td>\n",
       "      <td>-0.821700</td>\n",
       "    </tr>\n",
       "    <tr>\n",
       "      <th>2019-02</th>\n",
       "      <td>9087.495068</td>\n",
       "      <td>1.786305</td>\n",
       "      <td>0.964605</td>\n",
       "    </tr>\n",
       "  </tbody>\n",
       "</table>\n",
       "</div>"
      ],
      "text/plain": [
       "         Adj Close Mensual  Variación Rentabilidad Mensual (%)  \\\n",
       "Date                                                             \n",
       "2018-10        9008.617442                                 NaN   \n",
       "2018-11        9045.345481                            0.407699   \n",
       "2018-12        8747.821032                           -3.289255   \n",
       "2019-01        8928.013494                            2.059855   \n",
       "2019-02        9087.495068                            1.786305   \n",
       "\n",
       "         Variación Rentabilidad Mensual Acumulada (%)  \n",
       "Date                                                   \n",
       "2018-10                                           NaN  \n",
       "2018-11                                      0.407699  \n",
       "2018-12                                     -2.881556  \n",
       "2019-01                                     -0.821700  \n",
       "2019-02                                      0.964605  "
      ]
     },
     "execution_count": 20,
     "metadata": {},
     "output_type": "execute_result"
    }
   ],
   "source": [
    "ibex35=var_mensual_acumulada('ibex35', '^IBEX' , '2018-10-01', '2022-09-26')\n",
    "ibex35.head()"
   ]
  },
  {
   "cell_type": "code",
   "execution_count": 21,
   "metadata": {},
   "outputs": [
    {
     "data": {
      "text/html": [
       "<div>\n",
       "<style scoped>\n",
       "    .dataframe tbody tr th:only-of-type {\n",
       "        vertical-align: middle;\n",
       "    }\n",
       "\n",
       "    .dataframe tbody tr th {\n",
       "        vertical-align: top;\n",
       "    }\n",
       "\n",
       "    .dataframe thead th {\n",
       "        text-align: right;\n",
       "    }\n",
       "</style>\n",
       "<table border=\"1\" class=\"dataframe\">\n",
       "  <thead>\n",
       "    <tr style=\"text-align: right;\">\n",
       "      <th></th>\n",
       "      <th>Variación Rentabilidad Mensual Acumulada (%)</th>\n",
       "    </tr>\n",
       "    <tr>\n",
       "      <th>Date</th>\n",
       "      <th></th>\n",
       "    </tr>\n",
       "  </thead>\n",
       "  <tbody>\n",
       "    <tr>\n",
       "      <th>2018-11</th>\n",
       "      <td>0.407699</td>\n",
       "    </tr>\n",
       "    <tr>\n",
       "      <th>2018-12</th>\n",
       "      <td>-2.881556</td>\n",
       "    </tr>\n",
       "    <tr>\n",
       "      <th>2019-01</th>\n",
       "      <td>-0.821700</td>\n",
       "    </tr>\n",
       "    <tr>\n",
       "      <th>2019-02</th>\n",
       "      <td>0.964605</td>\n",
       "    </tr>\n",
       "    <tr>\n",
       "      <th>2019-03</th>\n",
       "      <td>2.836567</td>\n",
       "    </tr>\n",
       "  </tbody>\n",
       "</table>\n",
       "</div>"
      ],
      "text/plain": [
       "         Variación Rentabilidad Mensual Acumulada (%)\n",
       "Date                                                 \n",
       "2018-11                                      0.407699\n",
       "2018-12                                     -2.881556\n",
       "2019-01                                     -0.821700\n",
       "2019-02                                      0.964605\n",
       "2019-03                                      2.836567"
      ]
     },
     "execution_count": 21,
     "metadata": {},
     "output_type": "execute_result"
    }
   ],
   "source": [
    "ibex35_VA=ibex35[['Variación Rentabilidad Mensual Acumulada (%)']]\n",
    "ibex35_VA=ibex35_VA.drop(ibex35_VA.index[:1])\n",
    "ibex35_VA.head()"
   ]
  },
  {
   "cell_type": "markdown",
   "metadata": {},
   "source": [
    "# IPC"
   ]
  },
  {
   "cell_type": "code",
   "execution_count": 22,
   "metadata": {},
   "outputs": [
    {
     "data": {
      "text/html": [
       "<div>\n",
       "<style scoped>\n",
       "    .dataframe tbody tr th:only-of-type {\n",
       "        vertical-align: middle;\n",
       "    }\n",
       "\n",
       "    .dataframe tbody tr th {\n",
       "        vertical-align: top;\n",
       "    }\n",
       "\n",
       "    .dataframe thead th {\n",
       "        text-align: right;\n",
       "    }\n",
       "</style>\n",
       "<table border=\"1\" class=\"dataframe\">\n",
       "  <thead>\n",
       "    <tr style=\"text-align: right;\">\n",
       "      <th></th>\n",
       "      <th>Variable1</th>\n",
       "      <th>Valor1</th>\n",
       "      <th>Variable2</th>\n",
       "      <th>Valor2</th>\n",
       "      <th>Variable3</th>\n",
       "      <th>Valor3</th>\n",
       "      <th>PERIODO</th>\n",
       "      <th>VALOR</th>\n",
       "    </tr>\n",
       "  </thead>\n",
       "  <tbody>\n",
       "    <tr>\n",
       "      <th>99</th>\n",
       "      <td>Tipo de dato</td>\n",
       "      <td>Variación mensual</td>\n",
       "      <td>Total Nacional</td>\n",
       "      <td>Total Nacional</td>\n",
       "      <td>Grupos ECOICOP</td>\n",
       "      <td>Índice general</td>\n",
       "      <td>2014M05</td>\n",
       "      <td>0,0</td>\n",
       "    </tr>\n",
       "    <tr>\n",
       "      <th>98</th>\n",
       "      <td>Tipo de dato</td>\n",
       "      <td>Variación mensual</td>\n",
       "      <td>Total Nacional</td>\n",
       "      <td>Total Nacional</td>\n",
       "      <td>Grupos ECOICOP</td>\n",
       "      <td>Índice general</td>\n",
       "      <td>2014M06</td>\n",
       "      <td>0,0</td>\n",
       "    </tr>\n",
       "    <tr>\n",
       "      <th>97</th>\n",
       "      <td>Tipo de dato</td>\n",
       "      <td>Variación mensual</td>\n",
       "      <td>Total Nacional</td>\n",
       "      <td>Total Nacional</td>\n",
       "      <td>Grupos ECOICOP</td>\n",
       "      <td>Índice general</td>\n",
       "      <td>2014M07</td>\n",
       "      <td>-0,9</td>\n",
       "    </tr>\n",
       "    <tr>\n",
       "      <th>96</th>\n",
       "      <td>Tipo de dato</td>\n",
       "      <td>Variación mensual</td>\n",
       "      <td>Total Nacional</td>\n",
       "      <td>Total Nacional</td>\n",
       "      <td>Grupos ECOICOP</td>\n",
       "      <td>Índice general</td>\n",
       "      <td>2014M08</td>\n",
       "      <td>0,2</td>\n",
       "    </tr>\n",
       "    <tr>\n",
       "      <th>95</th>\n",
       "      <td>Tipo de dato</td>\n",
       "      <td>Variación mensual</td>\n",
       "      <td>Total Nacional</td>\n",
       "      <td>Total Nacional</td>\n",
       "      <td>Grupos ECOICOP</td>\n",
       "      <td>Índice general</td>\n",
       "      <td>2014M09</td>\n",
       "      <td>0,2</td>\n",
       "    </tr>\n",
       "  </tbody>\n",
       "</table>\n",
       "</div>"
      ],
      "text/plain": [
       "       Variable1             Valor1       Variable2          Valor2  \\\n",
       "99  Tipo de dato  Variación mensual  Total Nacional  Total Nacional   \n",
       "98  Tipo de dato  Variación mensual  Total Nacional  Total Nacional   \n",
       "97  Tipo de dato  Variación mensual  Total Nacional  Total Nacional   \n",
       "96  Tipo de dato  Variación mensual  Total Nacional  Total Nacional   \n",
       "95  Tipo de dato  Variación mensual  Total Nacional  Total Nacional   \n",
       "\n",
       "         Variable3          Valor3  PERIODO VALOR  \n",
       "99  Grupos ECOICOP  Índice general  2014M05   0,0  \n",
       "98  Grupos ECOICOP  Índice general  2014M06   0,0  \n",
       "97  Grupos ECOICOP  Índice general  2014M07  -0,9  \n",
       "96  Grupos ECOICOP  Índice general  2014M08   0,2  \n",
       "95  Grupos ECOICOP  Índice general  2014M09   0,2  "
      ]
     },
     "execution_count": 22,
     "metadata": {},
     "output_type": "execute_result"
    }
   ],
   "source": [
    "#Leemos el csv y lo giramos (de los primeros a los últimos años), url ---> https://www.ine.es/consul/serie.do?d=true&s=IPC251855 ---> Csv (separado por ;), 100, Columnas\n",
    "ipc = pd.read_csv('IPC_ES_2022M08.csv',sep=';')\n",
    "ipc=ipc.loc[::-1]\n",
    "ipc.head()"
   ]
  },
  {
   "cell_type": "code",
   "execution_count": 23,
   "metadata": {},
   "outputs": [
    {
     "data": {
      "text/plain": [
       "99    0.0\n",
       "98    0.0\n",
       "97   -0.9\n",
       "96    0.2\n",
       "95    0.2\n",
       "     ... \n",
       "4    -0.2\n",
       "3     0.8\n",
       "2     1.9\n",
       "1    -0.3\n",
       "0     0.3\n",
       "Name: VALOR, Length: 100, dtype: float64"
      ]
     },
     "execution_count": 23,
     "metadata": {},
     "output_type": "execute_result"
    }
   ],
   "source": [
    "#Reemplazamos la coma por un punto y convertimos en float\n",
    "ipc['VALOR']=ipc['VALOR'].str.replace(',','.').astype(float)\n",
    "ipc['VALOR']"
   ]
  },
  {
   "cell_type": "code",
   "execution_count": 24,
   "metadata": {},
   "outputs": [
    {
     "data": {
      "text/plain": [
       "99    2014-05\n",
       "98    2014-06\n",
       "97    2014-07\n",
       "96    2014-08\n",
       "95    2014-09\n",
       "       ...   \n",
       "4     2022-04\n",
       "3     2022-05\n",
       "2     2022-06\n",
       "1     2022-07\n",
       "0     2022-08\n",
       "Name: PERIODO, Length: 100, dtype: object"
      ]
     },
     "execution_count": 24,
     "metadata": {},
     "output_type": "execute_result"
    }
   ],
   "source": [
    "#Reemplazamos la M por un guión y convertimos en float\n",
    "ipc['PERIODO']=ipc['PERIODO'].str.replace('M','-')\n",
    "ipc['PERIODO']"
   ]
  },
  {
   "cell_type": "code",
   "execution_count": 25,
   "metadata": {},
   "outputs": [
    {
     "data": {
      "text/html": [
       "<div>\n",
       "<style scoped>\n",
       "    .dataframe tbody tr th:only-of-type {\n",
       "        vertical-align: middle;\n",
       "    }\n",
       "\n",
       "    .dataframe tbody tr th {\n",
       "        vertical-align: top;\n",
       "    }\n",
       "\n",
       "    .dataframe thead th {\n",
       "        text-align: right;\n",
       "    }\n",
       "</style>\n",
       "<table border=\"1\" class=\"dataframe\">\n",
       "  <thead>\n",
       "    <tr style=\"text-align: right;\">\n",
       "      <th></th>\n",
       "      <th>Variable1</th>\n",
       "      <th>Valor1</th>\n",
       "      <th>Variable2</th>\n",
       "      <th>Valor2</th>\n",
       "      <th>Variable3</th>\n",
       "      <th>Valor3</th>\n",
       "      <th>PERIODO</th>\n",
       "      <th>VALOR</th>\n",
       "    </tr>\n",
       "  </thead>\n",
       "  <tbody>\n",
       "    <tr>\n",
       "      <th>45</th>\n",
       "      <td>Tipo de dato</td>\n",
       "      <td>Variación mensual</td>\n",
       "      <td>Total Nacional</td>\n",
       "      <td>Total Nacional</td>\n",
       "      <td>Grupos ECOICOP</td>\n",
       "      <td>Índice general</td>\n",
       "      <td>2018-11</td>\n",
       "      <td>-0.1</td>\n",
       "    </tr>\n",
       "    <tr>\n",
       "      <th>44</th>\n",
       "      <td>Tipo de dato</td>\n",
       "      <td>Variación mensual</td>\n",
       "      <td>Total Nacional</td>\n",
       "      <td>Total Nacional</td>\n",
       "      <td>Grupos ECOICOP</td>\n",
       "      <td>Índice general</td>\n",
       "      <td>2018-12</td>\n",
       "      <td>-0.4</td>\n",
       "    </tr>\n",
       "    <tr>\n",
       "      <th>43</th>\n",
       "      <td>Tipo de dato</td>\n",
       "      <td>Variación mensual</td>\n",
       "      <td>Total Nacional</td>\n",
       "      <td>Total Nacional</td>\n",
       "      <td>Grupos ECOICOP</td>\n",
       "      <td>Índice general</td>\n",
       "      <td>2019-01</td>\n",
       "      <td>-1.3</td>\n",
       "    </tr>\n",
       "    <tr>\n",
       "      <th>42</th>\n",
       "      <td>Tipo de dato</td>\n",
       "      <td>Variación mensual</td>\n",
       "      <td>Total Nacional</td>\n",
       "      <td>Total Nacional</td>\n",
       "      <td>Grupos ECOICOP</td>\n",
       "      <td>Índice general</td>\n",
       "      <td>2019-02</td>\n",
       "      <td>0.2</td>\n",
       "    </tr>\n",
       "    <tr>\n",
       "      <th>41</th>\n",
       "      <td>Tipo de dato</td>\n",
       "      <td>Variación mensual</td>\n",
       "      <td>Total Nacional</td>\n",
       "      <td>Total Nacional</td>\n",
       "      <td>Grupos ECOICOP</td>\n",
       "      <td>Índice general</td>\n",
       "      <td>2019-03</td>\n",
       "      <td>0.4</td>\n",
       "    </tr>\n",
       "  </tbody>\n",
       "</table>\n",
       "</div>"
      ],
      "text/plain": [
       "       Variable1             Valor1       Variable2          Valor2  \\\n",
       "45  Tipo de dato  Variación mensual  Total Nacional  Total Nacional   \n",
       "44  Tipo de dato  Variación mensual  Total Nacional  Total Nacional   \n",
       "43  Tipo de dato  Variación mensual  Total Nacional  Total Nacional   \n",
       "42  Tipo de dato  Variación mensual  Total Nacional  Total Nacional   \n",
       "41  Tipo de dato  Variación mensual  Total Nacional  Total Nacional   \n",
       "\n",
       "         Variable3          Valor3  PERIODO  VALOR  \n",
       "45  Grupos ECOICOP  Índice general  2018-11   -0.1  \n",
       "44  Grupos ECOICOP  Índice general  2018-12   -0.4  \n",
       "43  Grupos ECOICOP  Índice general  2019-01   -1.3  \n",
       "42  Grupos ECOICOP  Índice general  2019-02    0.2  \n",
       "41  Grupos ECOICOP  Índice general  2019-03    0.4  "
      ]
     },
     "execution_count": 25,
     "metadata": {},
     "output_type": "execute_result"
    }
   ],
   "source": [
    "#Seleccionamos desde el punto de partida que nos interesa\n",
    "ipc=ipc.iloc[54:100]\n",
    "ipc.head()"
   ]
  },
  {
   "cell_type": "code",
   "execution_count": 26,
   "metadata": {},
   "outputs": [
    {
     "data": {
      "text/html": [
       "<div>\n",
       "<style scoped>\n",
       "    .dataframe tbody tr th:only-of-type {\n",
       "        vertical-align: middle;\n",
       "    }\n",
       "\n",
       "    .dataframe tbody tr th {\n",
       "        vertical-align: top;\n",
       "    }\n",
       "\n",
       "    .dataframe thead th {\n",
       "        text-align: right;\n",
       "    }\n",
       "</style>\n",
       "<table border=\"1\" class=\"dataframe\">\n",
       "  <thead>\n",
       "    <tr style=\"text-align: right;\">\n",
       "      <th></th>\n",
       "      <th>Variable1</th>\n",
       "      <th>Valor1</th>\n",
       "      <th>Variable2</th>\n",
       "      <th>Valor2</th>\n",
       "      <th>Variable3</th>\n",
       "      <th>Valor3</th>\n",
       "      <th>PERIODO</th>\n",
       "      <th>VALOR</th>\n",
       "    </tr>\n",
       "  </thead>\n",
       "  <tbody>\n",
       "    <tr>\n",
       "      <th>4</th>\n",
       "      <td>Tipo de dato</td>\n",
       "      <td>Variación mensual</td>\n",
       "      <td>Total Nacional</td>\n",
       "      <td>Total Nacional</td>\n",
       "      <td>Grupos ECOICOP</td>\n",
       "      <td>Índice general</td>\n",
       "      <td>2022-04</td>\n",
       "      <td>-0.2</td>\n",
       "    </tr>\n",
       "    <tr>\n",
       "      <th>3</th>\n",
       "      <td>Tipo de dato</td>\n",
       "      <td>Variación mensual</td>\n",
       "      <td>Total Nacional</td>\n",
       "      <td>Total Nacional</td>\n",
       "      <td>Grupos ECOICOP</td>\n",
       "      <td>Índice general</td>\n",
       "      <td>2022-05</td>\n",
       "      <td>0.8</td>\n",
       "    </tr>\n",
       "    <tr>\n",
       "      <th>2</th>\n",
       "      <td>Tipo de dato</td>\n",
       "      <td>Variación mensual</td>\n",
       "      <td>Total Nacional</td>\n",
       "      <td>Total Nacional</td>\n",
       "      <td>Grupos ECOICOP</td>\n",
       "      <td>Índice general</td>\n",
       "      <td>2022-06</td>\n",
       "      <td>1.9</td>\n",
       "    </tr>\n",
       "    <tr>\n",
       "      <th>1</th>\n",
       "      <td>Tipo de dato</td>\n",
       "      <td>Variación mensual</td>\n",
       "      <td>Total Nacional</td>\n",
       "      <td>Total Nacional</td>\n",
       "      <td>Grupos ECOICOP</td>\n",
       "      <td>Índice general</td>\n",
       "      <td>2022-07</td>\n",
       "      <td>-0.3</td>\n",
       "    </tr>\n",
       "    <tr>\n",
       "      <th>0</th>\n",
       "      <td>Tipo de dato</td>\n",
       "      <td>Variación mensual</td>\n",
       "      <td>Total Nacional</td>\n",
       "      <td>Total Nacional</td>\n",
       "      <td>Grupos ECOICOP</td>\n",
       "      <td>Índice general</td>\n",
       "      <td>2022-08</td>\n",
       "      <td>0.3</td>\n",
       "    </tr>\n",
       "  </tbody>\n",
       "</table>\n",
       "</div>"
      ],
      "text/plain": [
       "      Variable1             Valor1       Variable2          Valor2  \\\n",
       "4  Tipo de dato  Variación mensual  Total Nacional  Total Nacional   \n",
       "3  Tipo de dato  Variación mensual  Total Nacional  Total Nacional   \n",
       "2  Tipo de dato  Variación mensual  Total Nacional  Total Nacional   \n",
       "1  Tipo de dato  Variación mensual  Total Nacional  Total Nacional   \n",
       "0  Tipo de dato  Variación mensual  Total Nacional  Total Nacional   \n",
       "\n",
       "        Variable3          Valor3  PERIODO  VALOR  \n",
       "4  Grupos ECOICOP  Índice general  2022-04   -0.2  \n",
       "3  Grupos ECOICOP  Índice general  2022-05    0.8  \n",
       "2  Grupos ECOICOP  Índice general  2022-06    1.9  \n",
       "1  Grupos ECOICOP  Índice general  2022-07   -0.3  \n",
       "0  Grupos ECOICOP  Índice general  2022-08    0.3  "
      ]
     },
     "execution_count": 26,
     "metadata": {},
     "output_type": "execute_result"
    }
   ],
   "source": [
    "ipc.tail()"
   ]
  },
  {
   "cell_type": "code",
   "execution_count": 27,
   "metadata": {},
   "outputs": [
    {
     "data": {
      "text/html": [
       "<div>\n",
       "<style scoped>\n",
       "    .dataframe tbody tr th:only-of-type {\n",
       "        vertical-align: middle;\n",
       "    }\n",
       "\n",
       "    .dataframe tbody tr th {\n",
       "        vertical-align: top;\n",
       "    }\n",
       "\n",
       "    .dataframe thead th {\n",
       "        text-align: right;\n",
       "    }\n",
       "</style>\n",
       "<table border=\"1\" class=\"dataframe\">\n",
       "  <thead>\n",
       "    <tr style=\"text-align: right;\">\n",
       "      <th></th>\n",
       "      <th>Variable1</th>\n",
       "      <th>Valor1</th>\n",
       "      <th>Variable2</th>\n",
       "      <th>Valor2</th>\n",
       "      <th>Variable3</th>\n",
       "      <th>Valor3</th>\n",
       "      <th>PERIODO</th>\n",
       "      <th>VALOR</th>\n",
       "      <th>Valor Acumulado Mensual</th>\n",
       "    </tr>\n",
       "  </thead>\n",
       "  <tbody>\n",
       "    <tr>\n",
       "      <th>45</th>\n",
       "      <td>Tipo de dato</td>\n",
       "      <td>Variación mensual</td>\n",
       "      <td>Total Nacional</td>\n",
       "      <td>Total Nacional</td>\n",
       "      <td>Grupos ECOICOP</td>\n",
       "      <td>Índice general</td>\n",
       "      <td>2018-11</td>\n",
       "      <td>-0.1</td>\n",
       "      <td>-0.1</td>\n",
       "    </tr>\n",
       "    <tr>\n",
       "      <th>44</th>\n",
       "      <td>Tipo de dato</td>\n",
       "      <td>Variación mensual</td>\n",
       "      <td>Total Nacional</td>\n",
       "      <td>Total Nacional</td>\n",
       "      <td>Grupos ECOICOP</td>\n",
       "      <td>Índice general</td>\n",
       "      <td>2018-12</td>\n",
       "      <td>-0.4</td>\n",
       "      <td>-0.5</td>\n",
       "    </tr>\n",
       "    <tr>\n",
       "      <th>43</th>\n",
       "      <td>Tipo de dato</td>\n",
       "      <td>Variación mensual</td>\n",
       "      <td>Total Nacional</td>\n",
       "      <td>Total Nacional</td>\n",
       "      <td>Grupos ECOICOP</td>\n",
       "      <td>Índice general</td>\n",
       "      <td>2019-01</td>\n",
       "      <td>-1.3</td>\n",
       "      <td>-1.8</td>\n",
       "    </tr>\n",
       "    <tr>\n",
       "      <th>42</th>\n",
       "      <td>Tipo de dato</td>\n",
       "      <td>Variación mensual</td>\n",
       "      <td>Total Nacional</td>\n",
       "      <td>Total Nacional</td>\n",
       "      <td>Grupos ECOICOP</td>\n",
       "      <td>Índice general</td>\n",
       "      <td>2019-02</td>\n",
       "      <td>0.2</td>\n",
       "      <td>-1.6</td>\n",
       "    </tr>\n",
       "    <tr>\n",
       "      <th>41</th>\n",
       "      <td>Tipo de dato</td>\n",
       "      <td>Variación mensual</td>\n",
       "      <td>Total Nacional</td>\n",
       "      <td>Total Nacional</td>\n",
       "      <td>Grupos ECOICOP</td>\n",
       "      <td>Índice general</td>\n",
       "      <td>2019-03</td>\n",
       "      <td>0.4</td>\n",
       "      <td>-1.2</td>\n",
       "    </tr>\n",
       "  </tbody>\n",
       "</table>\n",
       "</div>"
      ],
      "text/plain": [
       "       Variable1             Valor1       Variable2          Valor2  \\\n",
       "45  Tipo de dato  Variación mensual  Total Nacional  Total Nacional   \n",
       "44  Tipo de dato  Variación mensual  Total Nacional  Total Nacional   \n",
       "43  Tipo de dato  Variación mensual  Total Nacional  Total Nacional   \n",
       "42  Tipo de dato  Variación mensual  Total Nacional  Total Nacional   \n",
       "41  Tipo de dato  Variación mensual  Total Nacional  Total Nacional   \n",
       "\n",
       "         Variable3          Valor3  PERIODO  VALOR  Valor Acumulado Mensual  \n",
       "45  Grupos ECOICOP  Índice general  2018-11   -0.1                     -0.1  \n",
       "44  Grupos ECOICOP  Índice general  2018-12   -0.4                     -0.5  \n",
       "43  Grupos ECOICOP  Índice general  2019-01   -1.3                     -1.8  \n",
       "42  Grupos ECOICOP  Índice general  2019-02    0.2                     -1.6  \n",
       "41  Grupos ECOICOP  Índice general  2019-03    0.4                     -1.2  "
      ]
     },
     "execution_count": 27,
     "metadata": {},
     "output_type": "execute_result"
    }
   ],
   "source": [
    "#Creamos una nueva columna con la variacion acumulada\n",
    "ipc['Valor Acumulado Mensual']= ipc['VALOR'].cumsum()\n",
    "ipc.head()"
   ]
  },
  {
   "cell_type": "code",
   "execution_count": 28,
   "metadata": {},
   "outputs": [
    {
     "data": {
      "text/html": [
       "<div>\n",
       "<style scoped>\n",
       "    .dataframe tbody tr th:only-of-type {\n",
       "        vertical-align: middle;\n",
       "    }\n",
       "\n",
       "    .dataframe tbody tr th {\n",
       "        vertical-align: top;\n",
       "    }\n",
       "\n",
       "    .dataframe thead th {\n",
       "        text-align: right;\n",
       "    }\n",
       "</style>\n",
       "<table border=\"1\" class=\"dataframe\">\n",
       "  <thead>\n",
       "    <tr style=\"text-align: right;\">\n",
       "      <th></th>\n",
       "      <th>PERIODO</th>\n",
       "      <th>VALOR</th>\n",
       "      <th>Valor Acumulado Mensual</th>\n",
       "    </tr>\n",
       "  </thead>\n",
       "  <tbody>\n",
       "    <tr>\n",
       "      <th>45</th>\n",
       "      <td>2018-11</td>\n",
       "      <td>-0.1</td>\n",
       "      <td>-0.1</td>\n",
       "    </tr>\n",
       "    <tr>\n",
       "      <th>44</th>\n",
       "      <td>2018-12</td>\n",
       "      <td>-0.4</td>\n",
       "      <td>-0.5</td>\n",
       "    </tr>\n",
       "    <tr>\n",
       "      <th>43</th>\n",
       "      <td>2019-01</td>\n",
       "      <td>-1.3</td>\n",
       "      <td>-1.8</td>\n",
       "    </tr>\n",
       "    <tr>\n",
       "      <th>42</th>\n",
       "      <td>2019-02</td>\n",
       "      <td>0.2</td>\n",
       "      <td>-1.6</td>\n",
       "    </tr>\n",
       "    <tr>\n",
       "      <th>41</th>\n",
       "      <td>2019-03</td>\n",
       "      <td>0.4</td>\n",
       "      <td>-1.2</td>\n",
       "    </tr>\n",
       "  </tbody>\n",
       "</table>\n",
       "</div>"
      ],
      "text/plain": [
       "    PERIODO  VALOR  Valor Acumulado Mensual\n",
       "45  2018-11   -0.1                     -0.1\n",
       "44  2018-12   -0.4                     -0.5\n",
       "43  2019-01   -1.3                     -1.8\n",
       "42  2019-02    0.2                     -1.6\n",
       "41  2019-03    0.4                     -1.2"
      ]
     },
     "execution_count": 28,
     "metadata": {},
     "output_type": "execute_result"
    }
   ],
   "source": [
    "#Seleccionamos las columnas que queremos\n",
    "ipc=ipc[['PERIODO','VALOR','Valor Acumulado Mensual']]\n",
    "ipc.head()"
   ]
  },
  {
   "cell_type": "code",
   "execution_count": 29,
   "metadata": {},
   "outputs": [
    {
     "data": {
      "text/html": [
       "<div>\n",
       "<style scoped>\n",
       "    .dataframe tbody tr th:only-of-type {\n",
       "        vertical-align: middle;\n",
       "    }\n",
       "\n",
       "    .dataframe tbody tr th {\n",
       "        vertical-align: top;\n",
       "    }\n",
       "\n",
       "    .dataframe thead th {\n",
       "        text-align: right;\n",
       "    }\n",
       "</style>\n",
       "<table border=\"1\" class=\"dataframe\">\n",
       "  <thead>\n",
       "    <tr style=\"text-align: right;\">\n",
       "      <th></th>\n",
       "      <th>Date</th>\n",
       "      <th>VALOR</th>\n",
       "      <th>Valor Acumulado Mensual</th>\n",
       "    </tr>\n",
       "  </thead>\n",
       "  <tbody>\n",
       "    <tr>\n",
       "      <th>45</th>\n",
       "      <td>2018-11</td>\n",
       "      <td>-0.1</td>\n",
       "      <td>-0.1</td>\n",
       "    </tr>\n",
       "    <tr>\n",
       "      <th>44</th>\n",
       "      <td>2018-12</td>\n",
       "      <td>-0.4</td>\n",
       "      <td>-0.5</td>\n",
       "    </tr>\n",
       "    <tr>\n",
       "      <th>43</th>\n",
       "      <td>2019-01</td>\n",
       "      <td>-1.3</td>\n",
       "      <td>-1.8</td>\n",
       "    </tr>\n",
       "    <tr>\n",
       "      <th>42</th>\n",
       "      <td>2019-02</td>\n",
       "      <td>0.2</td>\n",
       "      <td>-1.6</td>\n",
       "    </tr>\n",
       "    <tr>\n",
       "      <th>41</th>\n",
       "      <td>2019-03</td>\n",
       "      <td>0.4</td>\n",
       "      <td>-1.2</td>\n",
       "    </tr>\n",
       "  </tbody>\n",
       "</table>\n",
       "</div>"
      ],
      "text/plain": [
       "       Date  VALOR  Valor Acumulado Mensual\n",
       "45  2018-11   -0.1                     -0.1\n",
       "44  2018-12   -0.4                     -0.5\n",
       "43  2019-01   -1.3                     -1.8\n",
       "42  2019-02    0.2                     -1.6\n",
       "41  2019-03    0.4                     -1.2"
      ]
     },
     "execution_count": 29,
     "metadata": {},
     "output_type": "execute_result"
    }
   ],
   "source": [
    "#Reombramos columna\n",
    "ipc.rename(columns={'PERIODO':'Date'}, inplace = True)\n",
    "ipc.head()"
   ]
  },
  {
   "cell_type": "code",
   "execution_count": 30,
   "metadata": {},
   "outputs": [
    {
     "data": {
      "text/html": [
       "<div>\n",
       "<style scoped>\n",
       "    .dataframe tbody tr th:only-of-type {\n",
       "        vertical-align: middle;\n",
       "    }\n",
       "\n",
       "    .dataframe tbody tr th {\n",
       "        vertical-align: top;\n",
       "    }\n",
       "\n",
       "    .dataframe thead th {\n",
       "        text-align: right;\n",
       "    }\n",
       "</style>\n",
       "<table border=\"1\" class=\"dataframe\">\n",
       "  <thead>\n",
       "    <tr style=\"text-align: right;\">\n",
       "      <th></th>\n",
       "      <th>VALOR</th>\n",
       "      <th>Valor Acumulado Mensual</th>\n",
       "    </tr>\n",
       "    <tr>\n",
       "      <th>Date</th>\n",
       "      <th></th>\n",
       "      <th></th>\n",
       "    </tr>\n",
       "  </thead>\n",
       "  <tbody>\n",
       "    <tr>\n",
       "      <th>2018-11</th>\n",
       "      <td>-0.1</td>\n",
       "      <td>-0.1</td>\n",
       "    </tr>\n",
       "    <tr>\n",
       "      <th>2018-12</th>\n",
       "      <td>-0.4</td>\n",
       "      <td>-0.5</td>\n",
       "    </tr>\n",
       "    <tr>\n",
       "      <th>2019-01</th>\n",
       "      <td>-1.3</td>\n",
       "      <td>-1.8</td>\n",
       "    </tr>\n",
       "    <tr>\n",
       "      <th>2019-02</th>\n",
       "      <td>0.2</td>\n",
       "      <td>-1.6</td>\n",
       "    </tr>\n",
       "    <tr>\n",
       "      <th>2019-03</th>\n",
       "      <td>0.4</td>\n",
       "      <td>-1.2</td>\n",
       "    </tr>\n",
       "  </tbody>\n",
       "</table>\n",
       "</div>"
      ],
      "text/plain": [
       "         VALOR  Valor Acumulado Mensual\n",
       "Date                                   \n",
       "2018-11   -0.1                     -0.1\n",
       "2018-12   -0.4                     -0.5\n",
       "2019-01   -1.3                     -1.8\n",
       "2019-02    0.2                     -1.6\n",
       "2019-03    0.4                     -1.2"
      ]
     },
     "execution_count": 30,
     "metadata": {},
     "output_type": "execute_result"
    }
   ],
   "source": [
    "#definimos la columna de fechas como indice\n",
    "ipc=ipc.set_index('Date')\n",
    "ipc.head()"
   ]
  },
  {
   "cell_type": "code",
   "execution_count": 31,
   "metadata": {},
   "outputs": [
    {
     "data": {
      "text/html": [
       "<div>\n",
       "<style scoped>\n",
       "    .dataframe tbody tr th:only-of-type {\n",
       "        vertical-align: middle;\n",
       "    }\n",
       "\n",
       "    .dataframe tbody tr th {\n",
       "        vertical-align: top;\n",
       "    }\n",
       "\n",
       "    .dataframe thead th {\n",
       "        text-align: right;\n",
       "    }\n",
       "</style>\n",
       "<table border=\"1\" class=\"dataframe\">\n",
       "  <thead>\n",
       "    <tr style=\"text-align: right;\">\n",
       "      <th></th>\n",
       "      <th>Var</th>\n",
       "      <th>Valor Acumulado Mensual</th>\n",
       "    </tr>\n",
       "    <tr>\n",
       "      <th>Date</th>\n",
       "      <th></th>\n",
       "      <th></th>\n",
       "    </tr>\n",
       "  </thead>\n",
       "  <tbody>\n",
       "    <tr>\n",
       "      <th>2022-04</th>\n",
       "      <td>-0.2</td>\n",
       "      <td>9.4</td>\n",
       "    </tr>\n",
       "    <tr>\n",
       "      <th>2022-05</th>\n",
       "      <td>0.8</td>\n",
       "      <td>10.2</td>\n",
       "    </tr>\n",
       "    <tr>\n",
       "      <th>2022-06</th>\n",
       "      <td>1.9</td>\n",
       "      <td>12.1</td>\n",
       "    </tr>\n",
       "    <tr>\n",
       "      <th>2022-07</th>\n",
       "      <td>-0.3</td>\n",
       "      <td>11.8</td>\n",
       "    </tr>\n",
       "    <tr>\n",
       "      <th>2022-08</th>\n",
       "      <td>0.3</td>\n",
       "      <td>12.1</td>\n",
       "    </tr>\n",
       "  </tbody>\n",
       "</table>\n",
       "</div>"
      ],
      "text/plain": [
       "         Var  Valor Acumulado Mensual\n",
       "Date                                 \n",
       "2022-04 -0.2                      9.4\n",
       "2022-05  0.8                     10.2\n",
       "2022-06  1.9                     12.1\n",
       "2022-07 -0.3                     11.8\n",
       "2022-08  0.3                     12.1"
      ]
     },
     "execution_count": 31,
     "metadata": {},
     "output_type": "execute_result"
    }
   ],
   "source": [
    "#Renombramos columna\n",
    "ipc.rename(columns={'VALOR':'Var'}, inplace = True)\n",
    "ipc.tail()"
   ]
  },
  {
   "cell_type": "code",
   "execution_count": 32,
   "metadata": {},
   "outputs": [
    {
     "data": {
      "text/html": [
       "<div>\n",
       "<style scoped>\n",
       "    .dataframe tbody tr th:only-of-type {\n",
       "        vertical-align: middle;\n",
       "    }\n",
       "\n",
       "    .dataframe tbody tr th {\n",
       "        vertical-align: top;\n",
       "    }\n",
       "\n",
       "    .dataframe thead th {\n",
       "        text-align: right;\n",
       "    }\n",
       "</style>\n",
       "<table border=\"1\" class=\"dataframe\">\n",
       "  <thead>\n",
       "    <tr style=\"text-align: right;\">\n",
       "      <th></th>\n",
       "      <th>Valor Acumulado Mensual</th>\n",
       "    </tr>\n",
       "    <tr>\n",
       "      <th>Date</th>\n",
       "      <th></th>\n",
       "    </tr>\n",
       "  </thead>\n",
       "  <tbody>\n",
       "    <tr>\n",
       "      <th>2018-11</th>\n",
       "      <td>-0.1</td>\n",
       "    </tr>\n",
       "    <tr>\n",
       "      <th>2018-12</th>\n",
       "      <td>-0.5</td>\n",
       "    </tr>\n",
       "    <tr>\n",
       "      <th>2019-01</th>\n",
       "      <td>-1.8</td>\n",
       "    </tr>\n",
       "    <tr>\n",
       "      <th>2019-02</th>\n",
       "      <td>-1.6</td>\n",
       "    </tr>\n",
       "    <tr>\n",
       "      <th>2019-03</th>\n",
       "      <td>-1.2</td>\n",
       "    </tr>\n",
       "  </tbody>\n",
       "</table>\n",
       "</div>"
      ],
      "text/plain": [
       "         Valor Acumulado Mensual\n",
       "Date                            \n",
       "2018-11                     -0.1\n",
       "2018-12                     -0.5\n",
       "2019-01                     -1.8\n",
       "2019-02                     -1.6\n",
       "2019-03                     -1.2"
      ]
     },
     "execution_count": 32,
     "metadata": {},
     "output_type": "execute_result"
    }
   ],
   "source": [
    "ipc_VA=ipc[['Valor Acumulado Mensual']]\n",
    "#ipc_VA=ipc_VA.drop(ipc_VA.index[:7])\n",
    "ipc_VA.head()"
   ]
  },
  {
   "cell_type": "markdown",
   "metadata": {},
   "source": [
    "# Correlacion\n"
   ]
  },
  {
   "cell_type": "code",
   "execution_count": 33,
   "metadata": {},
   "outputs": [
    {
     "data": {
      "text/html": [
       "<div>\n",
       "<style scoped>\n",
       "    .dataframe tbody tr th:only-of-type {\n",
       "        vertical-align: middle;\n",
       "    }\n",
       "\n",
       "    .dataframe tbody tr th {\n",
       "        vertical-align: top;\n",
       "    }\n",
       "\n",
       "    .dataframe thead th {\n",
       "        text-align: right;\n",
       "    }\n",
       "</style>\n",
       "<table border=\"1\" class=\"dataframe\">\n",
       "  <thead>\n",
       "    <tr style=\"text-align: right;\">\n",
       "      <th></th>\n",
       "      <th>Valor Acumulado Mensual</th>\n",
       "      <th>Variación Rentabilidad Mensual Acumulada (%)</th>\n",
       "      <th>Variación Rentabilidad Mensual Acumulada (%)</th>\n",
       "      <th>Variación Rentabilidad Mensual Acumulada (%)</th>\n",
       "      <th>Variación Rentabilidad Mensual Acumulada (%)</th>\n",
       "      <th>Variación Rentabilidad Mensual Acumulada (%)</th>\n",
       "    </tr>\n",
       "    <tr>\n",
       "      <th>Date</th>\n",
       "      <th></th>\n",
       "      <th></th>\n",
       "      <th></th>\n",
       "      <th></th>\n",
       "      <th></th>\n",
       "      <th></th>\n",
       "    </tr>\n",
       "  </thead>\n",
       "  <tbody>\n",
       "    <tr>\n",
       "      <th>2018-11</th>\n",
       "      <td>-0.1</td>\n",
       "      <td>0.407699</td>\n",
       "      <td>-0.503312</td>\n",
       "      <td>0.291301</td>\n",
       "      <td>-0.228660</td>\n",
       "      <td>0.503097</td>\n",
       "    </tr>\n",
       "    <tr>\n",
       "      <th>2018-12</th>\n",
       "      <td>-0.5</td>\n",
       "      <td>-2.881556</td>\n",
       "      <td>-2.177324</td>\n",
       "      <td>-3.290254</td>\n",
       "      <td>-1.416388</td>\n",
       "      <td>-6.502199</td>\n",
       "    </tr>\n",
       "    <tr>\n",
       "      <th>2019-01</th>\n",
       "      <td>-1.8</td>\n",
       "      <td>-0.821700</td>\n",
       "      <td>0.740846</td>\n",
       "      <td>-1.177862</td>\n",
       "      <td>-2.448010</td>\n",
       "      <td>-6.949574</td>\n",
       "    </tr>\n",
       "    <tr>\n",
       "      <th>2019-02</th>\n",
       "      <td>-1.6</td>\n",
       "      <td>0.964605</td>\n",
       "      <td>1.253236</td>\n",
       "      <td>0.434755</td>\n",
       "      <td>-0.508259</td>\n",
       "      <td>-2.385770</td>\n",
       "    </tr>\n",
       "    <tr>\n",
       "      <th>2019-03</th>\n",
       "      <td>-1.2</td>\n",
       "      <td>2.836567</td>\n",
       "      <td>2.693192</td>\n",
       "      <td>4.126495</td>\n",
       "      <td>3.578261</td>\n",
       "      <td>-8.379700</td>\n",
       "    </tr>\n",
       "  </tbody>\n",
       "</table>\n",
       "</div>"
      ],
      "text/plain": [
       "         Valor Acumulado Mensual  \\\n",
       "Date                               \n",
       "2018-11                     -0.1   \n",
       "2018-12                     -0.5   \n",
       "2019-01                     -1.8   \n",
       "2019-02                     -1.6   \n",
       "2019-03                     -1.2   \n",
       "\n",
       "         Variación Rentabilidad Mensual Acumulada (%)  \\\n",
       "Date                                                    \n",
       "2018-11                                      0.407699   \n",
       "2018-12                                     -2.881556   \n",
       "2019-01                                     -0.821700   \n",
       "2019-02                                      0.964605   \n",
       "2019-03                                      2.836567   \n",
       "\n",
       "         Variación Rentabilidad Mensual Acumulada (%)  \\\n",
       "Date                                                    \n",
       "2018-11                                     -0.503312   \n",
       "2018-12                                     -2.177324   \n",
       "2019-01                                      0.740846   \n",
       "2019-02                                      1.253236   \n",
       "2019-03                                      2.693192   \n",
       "\n",
       "         Variación Rentabilidad Mensual Acumulada (%)  \\\n",
       "Date                                                    \n",
       "2018-11                                      0.291301   \n",
       "2018-12                                     -3.290254   \n",
       "2019-01                                     -1.177862   \n",
       "2019-02                                      0.434755   \n",
       "2019-03                                      4.126495   \n",
       "\n",
       "         Variación Rentabilidad Mensual Acumulada (%)  \\\n",
       "Date                                                    \n",
       "2018-11                                     -0.228660   \n",
       "2018-12                                     -1.416388   \n",
       "2019-01                                     -2.448010   \n",
       "2019-02                                     -0.508259   \n",
       "2019-03                                      3.578261   \n",
       "\n",
       "         Variación Rentabilidad Mensual Acumulada (%)  \n",
       "Date                                                   \n",
       "2018-11                                      0.503097  \n",
       "2018-12                                     -6.502199  \n",
       "2019-01                                     -6.949574  \n",
       "2019-02                                     -2.385770  \n",
       "2019-03                                     -8.379700  "
      ]
     },
     "execution_count": 33,
     "metadata": {},
     "output_type": "execute_result"
    }
   ],
   "source": [
    "all_data_col = pd.concat([ipc_VA,ibex35_VA,merlin_VA,colonial_VA,arima_VA,lar_VA], axis=1)\n",
    "all_data_col.head()"
   ]
  },
  {
   "cell_type": "code",
   "execution_count": 34,
   "metadata": {},
   "outputs": [
    {
     "data": {
      "text/html": [
       "<div>\n",
       "<style scoped>\n",
       "    .dataframe tbody tr th:only-of-type {\n",
       "        vertical-align: middle;\n",
       "    }\n",
       "\n",
       "    .dataframe tbody tr th {\n",
       "        vertical-align: top;\n",
       "    }\n",
       "\n",
       "    .dataframe thead th {\n",
       "        text-align: right;\n",
       "    }\n",
       "</style>\n",
       "<table border=\"1\" class=\"dataframe\">\n",
       "  <thead>\n",
       "    <tr style=\"text-align: right;\">\n",
       "      <th></th>\n",
       "      <th>IPC Var. Acumulada</th>\n",
       "      <th>IBEX35 Var. Acumulada</th>\n",
       "      <th>Merlin Var. Acumulada</th>\n",
       "      <th>Colonial Var. Acumulada</th>\n",
       "      <th>Arima Var. Acumulada</th>\n",
       "      <th>Lar Var. Acumulada</th>\n",
       "    </tr>\n",
       "    <tr>\n",
       "      <th>Date</th>\n",
       "      <th></th>\n",
       "      <th></th>\n",
       "      <th></th>\n",
       "      <th></th>\n",
       "      <th></th>\n",
       "      <th></th>\n",
       "    </tr>\n",
       "  </thead>\n",
       "  <tbody>\n",
       "    <tr>\n",
       "      <th>2018-11</th>\n",
       "      <td>-0.1</td>\n",
       "      <td>0.407699</td>\n",
       "      <td>-0.503312</td>\n",
       "      <td>0.291301</td>\n",
       "      <td>-0.228660</td>\n",
       "      <td>0.503097</td>\n",
       "    </tr>\n",
       "    <tr>\n",
       "      <th>2018-12</th>\n",
       "      <td>-0.5</td>\n",
       "      <td>-2.881556</td>\n",
       "      <td>-2.177324</td>\n",
       "      <td>-3.290254</td>\n",
       "      <td>-1.416388</td>\n",
       "      <td>-6.502199</td>\n",
       "    </tr>\n",
       "    <tr>\n",
       "      <th>2019-01</th>\n",
       "      <td>-1.8</td>\n",
       "      <td>-0.821700</td>\n",
       "      <td>0.740846</td>\n",
       "      <td>-1.177862</td>\n",
       "      <td>-2.448010</td>\n",
       "      <td>-6.949574</td>\n",
       "    </tr>\n",
       "    <tr>\n",
       "      <th>2019-02</th>\n",
       "      <td>-1.6</td>\n",
       "      <td>0.964605</td>\n",
       "      <td>1.253236</td>\n",
       "      <td>0.434755</td>\n",
       "      <td>-0.508259</td>\n",
       "      <td>-2.385770</td>\n",
       "    </tr>\n",
       "    <tr>\n",
       "      <th>2019-03</th>\n",
       "      <td>-1.2</td>\n",
       "      <td>2.836567</td>\n",
       "      <td>2.693192</td>\n",
       "      <td>4.126495</td>\n",
       "      <td>3.578261</td>\n",
       "      <td>-8.379700</td>\n",
       "    </tr>\n",
       "  </tbody>\n",
       "</table>\n",
       "</div>"
      ],
      "text/plain": [
       "         IPC Var. Acumulada  IBEX35 Var. Acumulada  Merlin Var. Acumulada  \\\n",
       "Date                                                                        \n",
       "2018-11                -0.1               0.407699              -0.503312   \n",
       "2018-12                -0.5              -2.881556              -2.177324   \n",
       "2019-01                -1.8              -0.821700               0.740846   \n",
       "2019-02                -1.6               0.964605               1.253236   \n",
       "2019-03                -1.2               2.836567               2.693192   \n",
       "\n",
       "         Colonial Var. Acumulada  Arima Var. Acumulada  Lar Var. Acumulada  \n",
       "Date                                                                        \n",
       "2018-11                 0.291301             -0.228660            0.503097  \n",
       "2018-12                -3.290254             -1.416388           -6.502199  \n",
       "2019-01                -1.177862             -2.448010           -6.949574  \n",
       "2019-02                 0.434755             -0.508259           -2.385770  \n",
       "2019-03                 4.126495              3.578261           -8.379700  "
      ]
     },
     "execution_count": 34,
     "metadata": {},
     "output_type": "execute_result"
    }
   ],
   "source": [
    "all_data_col.columns=['IPC Var. Acumulada','IBEX35 Var. Acumulada','Merlin Var. Acumulada','Colonial Var. Acumulada','Arima Var. Acumulada','Lar Var. Acumulada']\n",
    "all_data_col.head()"
   ]
  },
  {
   "cell_type": "code",
   "execution_count": 35,
   "metadata": {},
   "outputs": [
    {
     "data": {
      "text/html": [
       "<div>\n",
       "<style scoped>\n",
       "    .dataframe tbody tr th:only-of-type {\n",
       "        vertical-align: middle;\n",
       "    }\n",
       "\n",
       "    .dataframe tbody tr th {\n",
       "        vertical-align: top;\n",
       "    }\n",
       "\n",
       "    .dataframe thead th {\n",
       "        text-align: right;\n",
       "    }\n",
       "</style>\n",
       "<table border=\"1\" class=\"dataframe\">\n",
       "  <thead>\n",
       "    <tr style=\"text-align: right;\">\n",
       "      <th></th>\n",
       "      <th>IPC Var. Acumulada</th>\n",
       "      <th>IBEX35 Var. Acumulada</th>\n",
       "      <th>Merlin Var. Acumulada</th>\n",
       "      <th>Colonial Var. Acumulada</th>\n",
       "      <th>Arima Var. Acumulada</th>\n",
       "      <th>Lar Var. Acumulada</th>\n",
       "    </tr>\n",
       "  </thead>\n",
       "  <tbody>\n",
       "    <tr>\n",
       "      <th>IPC Var. Acumulada</th>\n",
       "      <td>1.000000</td>\n",
       "      <td>0.259989</td>\n",
       "      <td>0.408929</td>\n",
       "      <td>-0.249710</td>\n",
       "      <td>-0.264588</td>\n",
       "      <td>0.112328</td>\n",
       "    </tr>\n",
       "    <tr>\n",
       "      <th>IBEX35 Var. Acumulada</th>\n",
       "      <td>0.259989</td>\n",
       "      <td>1.000000</td>\n",
       "      <td>0.850646</td>\n",
       "      <td>0.579398</td>\n",
       "      <td>0.476303</td>\n",
       "      <td>0.899114</td>\n",
       "    </tr>\n",
       "    <tr>\n",
       "      <th>Merlin Var. Acumulada</th>\n",
       "      <td>0.408929</td>\n",
       "      <td>0.850646</td>\n",
       "      <td>1.000000</td>\n",
       "      <td>0.741498</td>\n",
       "      <td>0.681992</td>\n",
       "      <td>0.855754</td>\n",
       "    </tr>\n",
       "    <tr>\n",
       "      <th>Colonial Var. Acumulada</th>\n",
       "      <td>-0.249710</td>\n",
       "      <td>0.579398</td>\n",
       "      <td>0.741498</td>\n",
       "      <td>1.000000</td>\n",
       "      <td>0.881590</td>\n",
       "      <td>0.599744</td>\n",
       "    </tr>\n",
       "    <tr>\n",
       "      <th>Arima Var. Acumulada</th>\n",
       "      <td>-0.264588</td>\n",
       "      <td>0.476303</td>\n",
       "      <td>0.681992</td>\n",
       "      <td>0.881590</td>\n",
       "      <td>1.000000</td>\n",
       "      <td>0.501766</td>\n",
       "    </tr>\n",
       "    <tr>\n",
       "      <th>Lar Var. Acumulada</th>\n",
       "      <td>0.112328</td>\n",
       "      <td>0.899114</td>\n",
       "      <td>0.855754</td>\n",
       "      <td>0.599744</td>\n",
       "      <td>0.501766</td>\n",
       "      <td>1.000000</td>\n",
       "    </tr>\n",
       "  </tbody>\n",
       "</table>\n",
       "</div>"
      ],
      "text/plain": [
       "                         IPC Var. Acumulada  IBEX35 Var. Acumulada  \\\n",
       "IPC Var. Acumulada                 1.000000               0.259989   \n",
       "IBEX35 Var. Acumulada              0.259989               1.000000   \n",
       "Merlin Var. Acumulada              0.408929               0.850646   \n",
       "Colonial Var. Acumulada           -0.249710               0.579398   \n",
       "Arima Var. Acumulada              -0.264588               0.476303   \n",
       "Lar Var. Acumulada                 0.112328               0.899114   \n",
       "\n",
       "                         Merlin Var. Acumulada  Colonial Var. Acumulada  \\\n",
       "IPC Var. Acumulada                    0.408929                -0.249710   \n",
       "IBEX35 Var. Acumulada                 0.850646                 0.579398   \n",
       "Merlin Var. Acumulada                 1.000000                 0.741498   \n",
       "Colonial Var. Acumulada               0.741498                 1.000000   \n",
       "Arima Var. Acumulada                  0.681992                 0.881590   \n",
       "Lar Var. Acumulada                    0.855754                 0.599744   \n",
       "\n",
       "                         Arima Var. Acumulada  Lar Var. Acumulada  \n",
       "IPC Var. Acumulada                  -0.264588            0.112328  \n",
       "IBEX35 Var. Acumulada                0.476303            0.899114  \n",
       "Merlin Var. Acumulada                0.681992            0.855754  \n",
       "Colonial Var. Acumulada              0.881590            0.599744  \n",
       "Arima Var. Acumulada                 1.000000            0.501766  \n",
       "Lar Var. Acumulada                   0.501766            1.000000  "
      ]
     },
     "execution_count": 35,
     "metadata": {},
     "output_type": "execute_result"
    }
   ],
   "source": [
    "df_corr = all_data_col.corr()\n",
    "df_corr"
   ]
  },
  {
   "cell_type": "code",
   "execution_count": 36,
   "metadata": {},
   "outputs": [],
   "source": [
    "import matplotlib.pyplot as plt\n",
    "import seaborn as sns"
   ]
  },
  {
   "cell_type": "code",
   "execution_count": 37,
   "metadata": {},
   "outputs": [
    {
     "data": {
      "image/png": "[encoded data removed]",
      "text/plain": [
       "<Figure size 720x720 with 2 Axes>"
      ]
     },
     "metadata": {
      "needs_background": "light"
     },
     "output_type": "display_data"
    }
   ],
   "source": [
    "plt.figure(figsize=(10,10))\n",
    "sns.heatmap(all_data_col.corr(),\n",
    "vmin=-1,\n",
    "vmax = 1,\n",
    "cmap = sns.diverging_palette(145, 280, s=85, l=25, n=7),\n",
    "annot = True,\n",
    "square = True,\n",
    "linewidth = .5);"
   ]
  },
  {
   "cell_type": "code",
   "execution_count": 38,
   "metadata": {},
   "outputs": [
    {
     "name": "stdout",
     "output_type": "stream",
     "text": [
      "aggrnyl     agsunset    blackbody   bluered     blues       blugrn      bluyl       brwnyl\n",
      "bugn        bupu        burg        burgyl      cividis     darkmint    electric    emrld\n",
      "gnbu        greens      greys       hot         inferno     jet         magenta     magma\n",
      "mint        orrd        oranges     oryel       peach       pinkyl      plasma      plotly3\n",
      "pubu        pubugn      purd        purp        purples     purpor      rainbow     rdbu\n",
      "rdpu        redor       reds        sunset      sunsetdark  teal        tealgrn     turbo\n",
      "viridis     ylgn        ylgnbu      ylorbr      ylorrd      algae       amp         deep\n",
      "dense       gray        haline      ice         matter      solar       speed       tempo\n",
      "thermal     turbid      armyrose    brbg        earth       fall        geyser      prgn\n",
      "piyg        picnic      portland    puor        rdgy        rdylbu      rdylgn      spectral\n",
      "tealrose    temps       tropic      balance     curl        delta       oxy         edge\n",
      "hsv         icefire     phase       twilight    mrybm       mygbm\n"
     ]
    }
   ],
   "source": [
    "import plotly.figure_factory as ff\n",
    "import plotly.express as px\n",
    "from textwrap import wrap\n",
    "from plotly.offline import iplot\n",
    "\n",
    "named_colorscales = px.colors.named_colorscales()\n",
    "print(\"\\n\".join(wrap(\"\".join('{:<12}'.format(c) for c in named_colorscales), 96)))"
   ]
  },
  {
   "cell_type": "code",
   "execution_count": 39,
   "metadata": {},
   "outputs": [
    {
     "data": {
      "application/vnd.plotly.v1+json": {
       "config": {
        "plotlyServerURL": "https://plot.ly"
       },
       "data": [
        {
         "colorscale": [
          [
           0,
           "rgb(253, 224, 197)"
          ],
          [
           0.16666666666666666,
           "rgb(250, 203, 166)"
          ],
          [
           0.3333333333333333,
           "rgb(248, 181, 139)"
          ],
          [
           0.5,
           "rgb(245, 158, 114)"
          ],
          [
           0.6666666666666666,
           "rgb(242, 133, 93)"
          ],
          [
           0.8333333333333334,
           "rgb(239, 106, 76)"
          ],
          [
           1,
           "rgb(235, 74, 64)"
          ]
         ],
         "hoverinfo": "z",
         "reversescale": false,
         "showscale": false,
         "type": "heatmap",
         "x": [
          "IPC Var. Acumulada",
          "IBEX35 Var. Acumulada",
          "Merlin Var. Acumulada",
          "Colonial Var. Acumulada",
          "Arima Var. Acumulada",
          "Lar Var. Acumulada"
         ],
         "y": [
          "IPC Var. Acumulada",
          "IBEX35 Var. Acumulada",
          "Merlin Var. Acumulada",
          "Colonial Var. Acumulada",
          "Arima Var. Acumulada",
          "Lar Var. Acumulada"
         ],
         "z": [
          [
           1,
           0.25998901738252095,
           0.40892887141476125,
           -0.24971041964154653,
           -0.26458775374498844,
           0.11232838500643742
          ],
          [
           0.25998901738252095,
           1,
           0.8506461711201209,
           0.5793984134865249,
           0.47630296449656184,
           0.8991141834636944
          ],
          [
           0.40892887141476125,
           0.8506461711201209,
           1,
           0.741497573303125,
           0.6819915311478602,
           0.8557539136050879
          ],
          [
           -0.24971041964154653,
           0.5793984134865249,
           0.741497573303125,
           1,
           0.8815903952070284,
           0.5997437803949249
          ],
          [
           -0.26458775374498844,
           0.47630296449656184,
           0.6819915311478602,
           0.8815903952070284,
           1,
           0.5017656533613499
          ],
          [
           0.11232838500643742,
           0.8991141834636944,
           0.8557539136050879,
           0.5997437803949249,
           0.5017656533613499,
           1
          ]
         ]
        }
       ],
       "layout": {
        "annotations": [
         {
          "font": {
           "color": "#FFFFFF"
          },
          "showarrow": false,
          "text": "1.0",
          "x": "IPC Var. Acumulada",
          "xref": "x",
          "y": "IPC Var. Acumulada",
          "yref": "y"
         },
         {
          "font": {
           "color": "#000000"
          },
          "showarrow": false,
          "text": "0.26",
          "x": "IBEX35 Var. Acumulada",
          "xref": "x",
          "y": "IPC Var. Acumulada",
          "yref": "y"
         },
         {
          "font": {
           "color": "#FFFFFF"
          },
          "showarrow": false,
          "text": "0.41",
          "x": "Merlin Var. Acumulada",
          "xref": "x",
          "y": "IPC Var. Acumulada",
          "yref": "y"
         },
         {
          "font": {
           "color": "#000000"
          },
          "showarrow": false,
          "text": "-0.25",
          "x": "Colonial Var. Acumulada",
          "xref": "x",
          "y": "IPC Var. Acumulada",
          "yref": "y"
         },
         {
          "font": {
           "color": "#000000"
          },
          "showarrow": false,
          "text": "-0.26",
          "x": "Arima Var. Acumulada",
          "xref": "x",
          "y": "IPC Var. Acumulada",
          "yref": "y"
         },
         {
          "font": {
           "color": "#000000"
          },
          "showarrow": false,
          "text": "0.11",
          "x": "Lar Var. Acumulada",
          "xref": "x",
          "y": "IPC Var. Acumulada",
          "yref": "y"
         },
         {
          "font": {
           "color": "#000000"
          },
          "showarrow": false,
          "text": "0.26",
          "x": "IPC Var. Acumulada",
          "xref": "x",
          "y": "IBEX35 Var. Acumulada",
          "yref": "y"
         },
         {
          "font": {
           "color": "#FFFFFF"
          },
          "showarrow": false,
          "text": "1.0",
          "x": "IBEX35 Var. Acumulada",
          "xref": "x",
          "y": "IBEX35 Var. Acumulada",
          "yref": "y"
         },
         {
          "font": {
           "color": "#FFFFFF"
          },
          "showarrow": false,
          "text": "0.85",
          "x": "Merlin Var. Acumulada",
          "xref": "x",
          "y": "IBEX35 Var. Acumulada",
          "yref": "y"
         },
         {
          "font": {
           "color": "#FFFFFF"
          },
          "showarrow": false,
          "text": "0.58",
          "x": "Colonial Var. Acumulada",
          "xref": "x",
          "y": "IBEX35 Var. Acumulada",
          "yref": "y"
         },
         {
          "font": {
           "color": "#FFFFFF"
          },
          "showarrow": false,
          "text": "0.48",
          "x": "Arima Var. Acumulada",
          "xref": "x",
          "y": "IBEX35 Var. Acumulada",
          "yref": "y"
         },
         {
          "font": {
           "color": "#FFFFFF"
          },
          "showarrow": false,
          "text": "0.9",
          "x": "Lar Var. Acumulada",
          "xref": "x",
          "y": "IBEX35 Var. Acumulada",
          "yref": "y"
         },
         {
          "font": {
           "color": "#FFFFFF"
          },
          "showarrow": false,
          "text": "0.41",
          "x": "IPC Var. Acumulada",
          "xref": "x",
          "y": "Merlin Var. Acumulada",
          "yref": "y"
         },
         {
          "font": {
           "color": "#FFFFFF"
          },
          "showarrow": false,
          "text": "0.85",
          "x": "IBEX35 Var. Acumulada",
          "xref": "x",
          "y": "Merlin Var. Acumulada",
          "yref": "y"
         },
         {
          "font": {
           "color": "#FFFFFF"
          },
          "showarrow": false,
          "text": "1.0",
          "x": "Merlin Var. Acumulada",
          "xref": "x",
          "y": "Merlin Var. Acumulada",
          "yref": "y"
         },
         {
          "font": {
           "color": "#FFFFFF"
          },
          "showarrow": false,
          "text": "0.74",
          "x": "Colonial Var. Acumulada",
          "xref": "x",
          "y": "Merlin Var. Acumulada",
          "yref": "y"
         },
         {
          "font": {
           "color": "#FFFFFF"
          },
          "showarrow": false,
          "text": "0.68",
          "x": "Arima Var. Acumulada",
          "xref": "x",
          "y": "Merlin Var. Acumulada",
          "yref": "y"
         },
         {
          "font": {
           "color": "#FFFFFF"
          },
          "showarrow": false,
          "text": "0.86",
          "x": "Lar Var. Acumulada",
          "xref": "x",
          "y": "Merlin Var. Acumulada",
          "yref": "y"
         },
         {
          "font": {
           "color": "#000000"
          },
          "showarrow": false,
          "text": "-0.25",
          "x": "IPC Var. Acumulada",
          "xref": "x",
          "y": "Colonial Var. Acumulada",
          "yref": "y"
         },
         {
          "font": {
           "color": "#FFFFFF"
          },
          "showarrow": false,
          "text": "0.58",
          "x": "IBEX35 Var. Acumulada",
          "xref": "x",
          "y": "Colonial Var. Acumulada",
          "yref": "y"
         },
         {
          "font": {
           "color": "#FFFFFF"
          },
          "showarrow": false,
          "text": "0.74",
          "x": "Merlin Var. Acumulada",
          "xref": "x",
          "y": "Colonial Var. Acumulada",
          "yref": "y"
         },
         {
          "font": {
           "color": "#FFFFFF"
          },
          "showarrow": false,
          "text": "1.0",
          "x": "Colonial Var. Acumulada",
          "xref": "x",
          "y": "Colonial Var. Acumulada",
          "yref": "y"
         },
         {
          "font": {
           "color": "#FFFFFF"
          },
          "showarrow": false,
          "text": "0.88",
          "x": "Arima Var. Acumulada",
          "xref": "x",
          "y": "Colonial Var. Acumulada",
          "yref": "y"
         },
         {
          "font": {
           "color": "#FFFFFF"
          },
          "showarrow": false,
          "text": "0.6",
          "x": "Lar Var. Acumulada",
          "xref": "x",
          "y": "Colonial Var. Acumulada",
          "yref": "y"
         },
         {
          "font": {
           "color": "#000000"
          },
          "showarrow": false,
          "text": "-0.26",
          "x": "IPC Var. Acumulada",
          "xref": "x",
          "y": "Arima Var. Acumulada",
          "yref": "y"
         },
         {
          "font": {
           "color": "#FFFFFF"
          },
          "showarrow": false,
          "text": "0.48",
          "x": "IBEX35 Var. Acumulada",
          "xref": "x",
          "y": "Arima Var. Acumulada",
          "yref": "y"
         },
         {
          "font": {
           "color": "#FFFFFF"
          },
          "showarrow": false,
          "text": "0.68",
          "x": "Merlin Var. Acumulada",
          "xref": "x",
          "y": "Arima Var. Acumulada",
          "yref": "y"
         },
         {
          "font": {
           "color": "#FFFFFF"
          },
          "showarrow": false,
          "text": "0.88",
          "x": "Colonial Var. Acumulada",
          "xref": "x",
          "y": "Arima Var. Acumulada",
          "yref": "y"
         },
         {
          "font": {
           "color": "#FFFFFF"
          },
          "showarrow": false,
          "text": "1.0",
          "x": "Arima Var. Acumulada",
          "xref": "x",
          "y": "Arima Var. Acumulada",
          "yref": "y"
         },
         {
          "font": {
           "color": "#FFFFFF"
          },
          "showarrow": false,
          "text": "0.5",
          "x": "Lar Var. Acumulada",
          "xref": "x",
          "y": "Arima Var. Acumulada",
          "yref": "y"
         },
         {
          "font": {
           "color": "#000000"
          },
          "showarrow": false,
          "text": "0.11",
          "x": "IPC Var. Acumulada",
          "xref": "x",
          "y": "Lar Var. Acumulada",
          "yref": "y"
         },
         {
          "font": {
           "color": "#FFFFFF"
          },
          "showarrow": false,
          "text": "0.9",
          "x": "IBEX35 Var. Acumulada",
          "xref": "x",
          "y": "Lar Var. Acumulada",
          "yref": "y"
         },
         {
          "font": {
           "color": "#FFFFFF"
          },
          "showarrow": false,
          "text": "0.86",
          "x": "Merlin Var. Acumulada",
          "xref": "x",
          "y": "Lar Var. Acumulada",
          "yref": "y"
         },
         {
          "font": {
           "color": "#FFFFFF"
          },
          "showarrow": false,
          "text": "0.6",
          "x": "Colonial Var. Acumulada",
          "xref": "x",
          "y": "Lar Var. Acumulada",
          "yref": "y"
         },
         {
          "font": {
           "color": "#FFFFFF"
          },
          "showarrow": false,
          "text": "0.5",
          "x": "Arima Var. Acumulada",
          "xref": "x",
          "y": "Lar Var. Acumulada",
          "yref": "y"
         },
         {
          "font": {
           "color": "#FFFFFF"
          },
          "showarrow": false,
          "text": "1.0",
          "x": "Lar Var. Acumulada",
          "xref": "x",
          "y": "Lar Var. Acumulada",
          "yref": "y"
         }
        ],
        "template": {
         "data": {
          "bar": [
           {
            "error_x": {
             "color": "#2a3f5f"
            },
            "error_y": {
             "color": "#2a3f5f"
            },
            "marker": {
             "line": {
              "color": "#E5ECF6",
              "width": 0.5
             },
             "pattern": {
              "fillmode": "overlay",
              "size": 10,
              "solidity": 0.2
             }
            },
            "type": "bar"
           }
          ],
          "barpolar": [
           {
            "marker": {
             "line": {
              "color": "#E5ECF6",
              "width": 0.5
             },
             "pattern": {
              "fillmode": "overlay",
              "size": 10,
              "solidity": 0.2
             }
            },
            "type": "barpolar"
           }
          ],
          "carpet": [
           {
            "aaxis": {
             "endlinecolor": "#2a3f5f",
             "gridcolor": "white",
             "linecolor": "white",
             "minorgridcolor": "white",
             "startlinecolor": "#2a3f5f"
            },
            "baxis": {
             "endlinecolor": "#2a3f5f",
             "gridcolor": "white",
             "linecolor": "white",
             "minorgridcolor": "white",
             "startlinecolor": "#2a3f5f"
            },
            "type": "carpet"
           }
          ],
          "choropleth": [
           {
            "colorbar": {
             "outlinewidth": 0,
             "ticks": ""
            },
            "type": "choropleth"
           }
          ],
          "contour": [
           {
            "colorbar": {
             "outlinewidth": 0,
             "ticks": ""
            },
            "colorscale": [
             [
              0,
              "#0d0887"
             ],
             [
              0.1111111111111111,
              "#46039f"
             ],
             [
              0.2222222222222222,
              "#7201a8"
             ],
             [
              0.3333333333333333,
              "#9c179e"
             ],
             [
              0.4444444444444444,
              "#bd3786"
             ],
             [
              0.5555555555555556,
              "#d8576b"
             ],
             [
              0.6666666666666666,
              "#ed7953"
             ],
             [
              0.7777777777777778,
              "#fb9f3a"
             ],
             [
              0.8888888888888888,
              "#fdca26"
             ],
             [
              1,
              "#f0f921"
             ]
            ],
            "type": "contour"
           }
          ],
          "contourcarpet": [
           {
            "colorbar": {
             "outlinewidth": 0,
             "ticks": ""
            },
            "type": "contourcarpet"
           }
          ],
          "heatmap": [
           {
            "colorbar": {
             "outlinewidth": 0,
             "ticks": ""
            },
            "colorscale": [
             [
              0,
              "#0d0887"
             ],
             [
              0.1111111111111111,
              "#46039f"
             ],
             [
              0.2222222222222222,
              "#7201a8"
             ],
             [
              0.3333333333333333,
              "#9c179e"
             ],
             [
              0.4444444444444444,
              "#bd3786"
             ],
             [
              0.5555555555555556,
              "#d8576b"
             ],
             [
              0.6666666666666666,
              "#ed7953"
             ],
             [
              0.7777777777777778,
              "#fb9f3a"
             ],
             [
              0.8888888888888888,
              "#fdca26"
             ],
             [
              1,
              "#f0f921"
             ]
            ],
            "type": "heatmap"
           }
          ],
          "heatmapgl": [
           {
            "colorbar": {
             "outlinewidth": 0,
             "ticks": ""
            },
            "colorscale": [
             [
              0,
              "#0d0887"
             ],
             [
              0.1111111111111111,
              "#46039f"
             ],
             [
              0.2222222222222222,
              "#7201a8"
             ],
             [
              0.3333333333333333,
              "#9c179e"
             ],
             [
              0.4444444444444444,
              "#bd3786"
             ],
             [
              0.5555555555555556,
              "#d8576b"
             ],
             [
              0.6666666666666666,
              "#ed7953"
             ],
             [
              0.7777777777777778,
              "#fb9f3a"
             ],
             [
              0.8888888888888888,
              "#fdca26"
             ],
             [
              1,
              "#f0f921"
             ]
            ],
            "type": "heatmapgl"
           }
          ],
          "histogram": [
           {
            "marker": {
             "pattern": {
              "fillmode": "overlay",
              "size": 10,
              "solidity": 0.2
             }
            },
            "type": "histogram"
           }
          ],
          "histogram2d": [
           {
            "colorbar": {
             "outlinewidth": 0,
             "ticks": ""
            },
            "colorscale": [
             [
              0,
              "#0d0887"
             ],
             [
              0.1111111111111111,
              "#46039f"
             ],
             [
              0.2222222222222222,
              "#7201a8"
             ],
             [
              0.3333333333333333,
              "#9c179e"
             ],
             [
              0.4444444444444444,
              "#bd3786"
             ],
             [
              0.5555555555555556,
              "#d8576b"
             ],
             [
              0.6666666666666666,
              "#ed7953"
             ],
             [
              0.7777777777777778,
              "#fb9f3a"
             ],
             [
              0.8888888888888888,
              "#fdca26"
             ],
             [
              1,
              "#f0f921"
             ]
            ],
            "type": "histogram2d"
           }
          ],
          "histogram2dcontour": [
           {
            "colorbar": {
             "outlinewidth": 0,
             "ticks": ""
            },
            "colorscale": [
             [
              0,
              "#0d0887"
             ],
             [
              0.1111111111111111,
              "#46039f"
             ],
             [
              0.2222222222222222,
              "#7201a8"
             ],
             [
              0.3333333333333333,
              "#9c179e"
             ],
             [
              0.4444444444444444,
              "#bd3786"
             ],
             [
              0.5555555555555556,
              "#d8576b"
             ],
             [
              0.6666666666666666,
              "#ed7953"
             ],
             [
              0.7777777777777778,
              "#fb9f3a"
             ],
             [
              0.8888888888888888,
              "#fdca26"
             ],
             [
              1,
              "#f0f921"
             ]
            ],
            "type": "histogram2dcontour"
           }
          ],
          "mesh3d": [
           {
            "colorbar": {
             "outlinewidth": 0,
             "ticks": ""
            },
            "type": "mesh3d"
           }
          ],
          "parcoords": [
           {
            "line": {
             "colorbar": {
              "outlinewidth": 0,
              "ticks": ""
             }
            },
            "type": "parcoords"
           }
          ],
          "pie": [
           {
            "automargin": true,
            "type": "pie"
           }
          ],
          "scatter": [
           {
            "fillpattern": {
             "fillmode": "overlay",
             "size": 10,
             "solidity": 0.2
            },
            "type": "scatter"
           }
          ],
          "scatter3d": [
           {
            "line": {
             "colorbar": {
              "outlinewidth": 0,
              "ticks": ""
             }
            },
            "marker": {
             "colorbar": {
              "outlinewidth": 0,
              "ticks": ""
             }
            },
            "type": "scatter3d"
           }
          ],
          "scattercarpet": [
           {
            "marker": {
             "colorbar": {
              "outlinewidth": 0,
              "ticks": ""
             }
            },
            "type": "scattercarpet"
           }
          ],
          "scattergeo": [
           {
            "marker": {
             "colorbar": {
              "outlinewidth": 0,
              "ticks": ""
             }
            },
            "type": "scattergeo"
           }
          ],
          "scattergl": [
           {
            "marker": {
             "colorbar": {
              "outlinewidth": 0,
              "ticks": ""
             }
            },
            "type": "scattergl"
           }
          ],
          "scattermapbox": [
           {
            "marker": {
             "colorbar": {
              "outlinewidth": 0,
              "ticks": ""
             }
            },
            "type": "scattermapbox"
           }
          ],
          "scatterpolar": [
           {
            "marker": {
             "colorbar": {
              "outlinewidth": 0,
              "ticks": ""
             }
            },
            "type": "scatterpolar"
           }
          ],
          "scatterpolargl": [
           {
            "marker": {
             "colorbar": {
              "outlinewidth": 0,
              "ticks": ""
             }
            },
            "type": "scatterpolargl"
           }
          ],
          "scatterternary": [
           {
            "marker": {
             "colorbar": {
              "outlinewidth": 0,
              "ticks": ""
             }
            },
            "type": "scatterternary"
           }
          ],
          "surface": [
           {
            "colorbar": {
             "outlinewidth": 0,
             "ticks": ""
            },
            "colorscale": [
             [
              0,
              "#0d0887"
             ],
             [
              0.1111111111111111,
              "#46039f"
             ],
             [
              0.2222222222222222,
              "#7201a8"
             ],
             [
              0.3333333333333333,
              "#9c179e"
             ],
             [
              0.4444444444444444,
              "#bd3786"
             ],
             [
              0.5555555555555556,
              "#d8576b"
             ],
             [
              0.6666666666666666,
              "#ed7953"
             ],
             [
              0.7777777777777778,
              "#fb9f3a"
             ],
             [
              0.8888888888888888,
              "#fdca26"
             ],
             [
              1,
              "#f0f921"
             ]
            ],
            "type": "surface"
           }
          ],
          "table": [
           {
            "cells": {
             "fill": {
              "color": "#EBF0F8"
             },
             "line": {
              "color": "white"
             }
            },
            "header": {
             "fill": {
              "color": "#C8D4E3"
             },
             "line": {
              "color": "white"
             }
            },
            "type": "table"
           }
          ]
         },
         "layout": {
          "annotationdefaults": {
           "arrowcolor": "#2a3f5f",
           "arrowhead": 0,
           "arrowwidth": 1
          },
          "autotypenumbers": "strict",
          "coloraxis": {
           "colorbar": {
            "outlinewidth": 0,
            "ticks": ""
           }
          },
          "colorscale": {
           "diverging": [
            [
             0,
             "#8e0152"
            ],
            [
             0.1,
             "#c51b7d"
            ],
            [
             0.2,
             "#de77ae"
            ],
            [
             0.3,
             "#f1b6da"
            ],
            [
             0.4,
             "#fde0ef"
            ],
            [
             0.5,
             "#f7f7f7"
            ],
            [
             0.6,
             "#e6f5d0"
            ],
            [
             0.7,
             "#b8e186"
            ],
            [
             0.8,
             "#7fbc41"
            ],
            [
             0.9,
             "#4d9221"
            ],
            [
             1,
             "#276419"
            ]
           ],
           "sequential": [
            [
             0,
             "#0d0887"
            ],
            [
             0.1111111111111111,
             "#46039f"
            ],
            [
             0.2222222222222222,
             "#7201a8"
            ],
            [
             0.3333333333333333,
             "#9c179e"
            ],
            [
             0.4444444444444444,
             "#bd3786"
            ],
            [
             0.5555555555555556,
             "#d8576b"
            ],
            [
             0.6666666666666666,
             "#ed7953"
            ],
            [
             0.7777777777777778,
             "#fb9f3a"
            ],
            [
             0.8888888888888888,
             "#fdca26"
            ],
            [
             1,
             "#f0f921"
            ]
           ],
           "sequentialminus": [
            [
             0,
             "#0d0887"
            ],
            [
             0.1111111111111111,
             "#46039f"
            ],
            [
             0.2222222222222222,
             "#7201a8"
            ],
            [
             0.3333333333333333,
             "#9c179e"
            ],
            [
             0.4444444444444444,
             "#bd3786"
            ],
            [
             0.5555555555555556,
             "#d8576b"
            ],
            [
             0.6666666666666666,
             "#ed7953"
            ],
            [
             0.7777777777777778,
             "#fb9f3a"
            ],
            [
             0.8888888888888888,
             "#fdca26"
            ],
            [
             1,
             "#f0f921"
            ]
           ]
          },
          "colorway": [
           "#636efa",
           "#EF553B",
           "#00cc96",
           "#ab63fa",
           "#FFA15A",
           "#19d3f3",
           "#FF6692",
           "#B6E880",
           "#FF97FF",
           "#FECB52"
          ],
          "font": {
           "color": "#2a3f5f"
          },
          "geo": {
           "bgcolor": "white",
           "lakecolor": "white",
           "landcolor": "#E5ECF6",
           "showlakes": true,
           "showland": true,
           "subunitcolor": "white"
          },
          "hoverlabel": {
           "align": "left"
          },
          "hovermode": "closest",
          "mapbox": {
           "style": "light"
          },
          "paper_bgcolor": "white",
          "plot_bgcolor": "#E5ECF6",
          "polar": {
           "angularaxis": {
            "gridcolor": "white",
            "linecolor": "white",
            "ticks": ""
           },
           "bgcolor": "#E5ECF6",
           "radialaxis": {
            "gridcolor": "white",
            "linecolor": "white",
            "ticks": ""
           }
          },
          "scene": {
           "xaxis": {
            "backgroundcolor": "#E5ECF6",
            "gridcolor": "white",
            "gridwidth": 2,
            "linecolor": "white",
            "showbackground": true,
            "ticks": "",
            "zerolinecolor": "white"
           },
           "yaxis": {
            "backgroundcolor": "#E5ECF6",
            "gridcolor": "white",
            "gridwidth": 2,
            "linecolor": "white",
            "showbackground": true,
            "ticks": "",
            "zerolinecolor": "white"
           },
           "zaxis": {
            "backgroundcolor": "#E5ECF6",
            "gridcolor": "white",
            "gridwidth": 2,
            "linecolor": "white",
            "showbackground": true,
            "ticks": "",
            "zerolinecolor": "white"
           }
          },
          "shapedefaults": {
           "line": {
            "color": "#2a3f5f"
           }
          },
          "ternary": {
           "aaxis": {
            "gridcolor": "white",
            "linecolor": "white",
            "ticks": ""
           },
           "baxis": {
            "gridcolor": "white",
            "linecolor": "white",
            "ticks": ""
           },
           "bgcolor": "#E5ECF6",
           "caxis": {
            "gridcolor": "white",
            "linecolor": "white",
            "ticks": ""
           }
          },
          "title": {
           "x": 0.05
          },
          "xaxis": {
           "automargin": true,
           "gridcolor": "white",
           "linecolor": "white",
           "ticks": "",
           "title": {
            "standoff": 15
           },
           "zerolinecolor": "white",
           "zerolinewidth": 2
          },
          "yaxis": {
           "automargin": true,
           "gridcolor": "white",
           "linecolor": "white",
           "ticks": "",
           "title": {
            "standoff": 15
           },
           "zerolinecolor": "white",
           "zerolinewidth": 2
          }
         }
        },
        "title": {
         "text": "Correlación de la Variación Mensual entre las SOCIMI, el IBEX35 y el IPC"
        },
        "xaxis": {
         "dtick": 1,
         "gridcolor": "rgb(0, 0, 0)",
         "side": "top",
         "ticks": ""
        },
        "yaxis": {
         "dtick": 1,
         "ticks": "",
         "ticksuffix": "  "
        }
       }
      }
     },
     "metadata": {},
     "output_type": "display_data"
    }
   ],
   "source": [
    "x = list(df_corr.columns)\n",
    "y = list(df_corr.index)\n",
    "z = np.array(df_corr)\n",
    "\n",
    "fig = ff.create_annotated_heatmap(\n",
    "    z,\n",
    "    x = x,\n",
    "    y = y ,\n",
    "    annotation_text = np.around(z, decimals=2),\n",
    "    hoverinfo='z',\n",
    "    colorscale='peach'\n",
    ")\n",
    "\n",
    "fig.update_layout(\n",
    "    title_text=\"Correlación de la Variación Mensual entre las SOCIMI, el IBEX35 y el IPC\"\n",
    ")\n",
    "\n",
    "fig.show()"
   ]
  },
  {
   "cell_type": "code",
   "execution_count": 40,
   "metadata": {},
   "outputs": [
    {
     "data": {
      "text/html": [
       "<div>\n",
       "<style scoped>\n",
       "    .dataframe tbody tr th:only-of-type {\n",
       "        vertical-align: middle;\n",
       "    }\n",
       "\n",
       "    .dataframe tbody tr th {\n",
       "        vertical-align: top;\n",
       "    }\n",
       "\n",
       "    .dataframe thead th {\n",
       "        text-align: right;\n",
       "    }\n",
       "</style>\n",
       "<table border=\"1\" class=\"dataframe\">\n",
       "  <thead>\n",
       "    <tr style=\"text-align: right;\">\n",
       "      <th></th>\n",
       "      <th>Date</th>\n",
       "      <th>IPC Var. Acumulada</th>\n",
       "      <th>IBEX35 Var. Acumulada</th>\n",
       "      <th>Merlin Var. Acumulada</th>\n",
       "      <th>Colonial Var. Acumulada</th>\n",
       "      <th>Arima Var. Acumulada</th>\n",
       "      <th>Lar Var. Acumulada</th>\n",
       "    </tr>\n",
       "  </thead>\n",
       "  <tbody>\n",
       "    <tr>\n",
       "      <th>0</th>\n",
       "      <td>2018-11</td>\n",
       "      <td>-0.1</td>\n",
       "      <td>0.407699</td>\n",
       "      <td>-0.503312</td>\n",
       "      <td>0.291301</td>\n",
       "      <td>-0.228660</td>\n",
       "      <td>0.503097</td>\n",
       "    </tr>\n",
       "    <tr>\n",
       "      <th>1</th>\n",
       "      <td>2018-12</td>\n",
       "      <td>-0.5</td>\n",
       "      <td>-2.881556</td>\n",
       "      <td>-2.177324</td>\n",
       "      <td>-3.290254</td>\n",
       "      <td>-1.416388</td>\n",
       "      <td>-6.502199</td>\n",
       "    </tr>\n",
       "    <tr>\n",
       "      <th>2</th>\n",
       "      <td>2019-01</td>\n",
       "      <td>-1.8</td>\n",
       "      <td>-0.821700</td>\n",
       "      <td>0.740846</td>\n",
       "      <td>-1.177862</td>\n",
       "      <td>-2.448010</td>\n",
       "      <td>-6.949574</td>\n",
       "    </tr>\n",
       "    <tr>\n",
       "      <th>3</th>\n",
       "      <td>2019-02</td>\n",
       "      <td>-1.6</td>\n",
       "      <td>0.964605</td>\n",
       "      <td>1.253236</td>\n",
       "      <td>0.434755</td>\n",
       "      <td>-0.508259</td>\n",
       "      <td>-2.385770</td>\n",
       "    </tr>\n",
       "    <tr>\n",
       "      <th>4</th>\n",
       "      <td>2019-03</td>\n",
       "      <td>-1.2</td>\n",
       "      <td>2.836567</td>\n",
       "      <td>2.693192</td>\n",
       "      <td>4.126495</td>\n",
       "      <td>3.578261</td>\n",
       "      <td>-8.379700</td>\n",
       "    </tr>\n",
       "  </tbody>\n",
       "</table>\n",
       "</div>"
      ],
      "text/plain": [
       "      Date  IPC Var. Acumulada  IBEX35 Var. Acumulada  Merlin Var. Acumulada  \\\n",
       "0  2018-11                -0.1               0.407699              -0.503312   \n",
       "1  2018-12                -0.5              -2.881556              -2.177324   \n",
       "2  2019-01                -1.8              -0.821700               0.740846   \n",
       "3  2019-02                -1.6               0.964605               1.253236   \n",
       "4  2019-03                -1.2               2.836567               2.693192   \n",
       "\n",
       "   Colonial Var. Acumulada  Arima Var. Acumulada  Lar Var. Acumulada  \n",
       "0                 0.291301             -0.228660            0.503097  \n",
       "1                -3.290254             -1.416388           -6.502199  \n",
       "2                -1.177862             -2.448010           -6.949574  \n",
       "3                 0.434755             -0.508259           -2.385770  \n",
       "4                 4.126495              3.578261           -8.379700  "
      ]
     },
     "execution_count": 40,
     "metadata": {},
     "output_type": "execute_result"
    }
   ],
   "source": [
    "all_data_col_lines=all_data_col.reset_index()\n",
    "all_data_col_lines.head()\n"
   ]
  },
  {
   "cell_type": "code",
   "execution_count": 46,
   "metadata": {},
   "outputs": [
    {
     "data": {
      "application/vnd.plotly.v1+json": {
       "config": {
        "plotlyServerURL": "https://plot.ly"
       },
       "data": [
        {
         "marker": {
          "color": "rgba(16, 112, 2, 0.8)"
         },
         "mode": "lines+markers",
         "name": "IPC Var. Acumulada",
         "type": "scatter",
         "x": [
          "2018-11",
          "2018-12",
          "2019-01",
          "2019-02",
          "2019-03",
          "2019-04",
          "2019-05",
          "2019-06",
          "2019-07",
          "2019-08",
          "2019-09",
          "2019-10",
          "2019-11",
          "2019-12",
          "2020-01",
          "2020-02",
          "2020-03",
          "2020-04",
          "2020-05",
          "2020-06",
          "2020-07",
          "2020-08",
          "2020-09",
          "2020-10",
          "2020-11",
          "2020-12",
          "2021-01",
          "2021-02",
          "2021-03",
          "2021-04",
          "2021-05",
          "2021-06",
          "2021-07",
          "2021-08",
          "2021-09",
          "2021-10",
          "2021-11",
          "2021-12",
          "2022-01",
          "2022-02",
          "2022-03",
          "2022-04",
          "2022-05",
          "2022-06",
          "2022-07",
          "2022-08",
          "2022-09"
         ],
         "xaxis": "x",
         "y": [
          -0.1,
          -0.5,
          -1.8,
          -1.6,
          -1.2000000000000002,
          -0.20000000000000018,
          -1.6653345369377348e-16,
          -0.10000000000000017,
          -0.7000000000000002,
          -0.8000000000000002,
          -0.8000000000000002,
          0.19999999999999984,
          0.39999999999999986,
          0.2999999999999998,
          -0.7000000000000002,
          -0.8000000000000002,
          -1.2000000000000002,
          -0.9000000000000001,
          -0.9000000000000001,
          -0.40000000000000013,
          -1.3000000000000003,
          -1.3000000000000003,
          -1.1000000000000003,
          -0.6000000000000003,
          -0.4000000000000003,
          -0.2000000000000003,
          -0.2000000000000003,
          -0.8000000000000003,
          0.19999999999999973,
          1.3999999999999997,
          1.8999999999999997,
          2.3999999999999995,
          1.5999999999999994,
          2.0999999999999996,
          2.8999999999999995,
          4.699999999999999,
          4.999999999999999,
          6.199999999999999,
          5.799999999999999,
          6.599999999999999,
          9.599999999999998,
          9.399999999999999,
          10.2,
          12.1,
          11.799999999999999,
          12.1,
          null
         ],
         "yaxis": "y2"
        },
        {
         "marker": {
          "color": "rgba(30, 26, 255, 0.8)"
         },
         "mode": "lines+markers",
         "name": "IBEX35 Var. Acumulada",
         "type": "scatter",
         "x": [
          "2018-11",
          "2018-12",
          "2019-01",
          "2019-02",
          "2019-03",
          "2019-04",
          "2019-05",
          "2019-06",
          "2019-07",
          "2019-08",
          "2019-09",
          "2019-10",
          "2019-11",
          "2019-12",
          "2020-01",
          "2020-02",
          "2020-03",
          "2020-04",
          "2020-05",
          "2020-06",
          "2020-07",
          "2020-08",
          "2020-09",
          "2020-10",
          "2020-11",
          "2020-12",
          "2021-01",
          "2021-02",
          "2021-03",
          "2021-04",
          "2021-05",
          "2021-06",
          "2021-07",
          "2021-08",
          "2021-09",
          "2021-10",
          "2021-11",
          "2021-12",
          "2022-01",
          "2022-02",
          "2022-03",
          "2022-04",
          "2022-05",
          "2022-06",
          "2022-07",
          "2022-08",
          "2022-09"
         ],
         "xaxis": "x",
         "y": [
          0.4076989522417529,
          -2.881555722725404,
          -0.8217003417663071,
          0.964604911274447,
          2.836567331863049,
          5.243132844480581,
          2.275765650328099,
          2.203021659975391,
          2.9034271694785123,
          -2.7920216295132856,
          0.9010996766155803,
          2.882510289401164,
          3.8050026593432933,
          5.605397143152736,
          6.380802488980676,
          7.60885466482868,
          -18.154443102897332,
          -23.28207361904947,
          -23.8536734494744,
          -14.126813298221318,
          -15.442439020121133,
          -18.925168415094618,
          -21.640487527517273,
          -22.929097747312323,
          -10.2810222405196,
          -4.085332656807185,
          -3.7583262156518096,
          -4.23595474812657,
          0.23916643447592278,
          2.0031766062972736,
          7.270216176824306,
          7.394341686989935,
          2.967075653305483,
          5.264336353210895,
          4.410704121764307,
          5.684021019768069,
          5.482554243574111,
          0.14245071190005376,
          3.4401380066831786,
          2.2823592029718274,
          -2.0926558494491667,
          2.138249277706615,
          1.2177253439883837,
          -0.32042874634096297,
          -4.31294687952677,
          -1.992147132631584,
          -5.996518156567144
         ],
         "yaxis": "y"
        },
        {
         "marker": {
          "color": "rgba(255, 20, 5, 0.8)"
         },
         "mode": "lines+markers",
         "name": "Merlin Var. Acumulada",
         "type": "scatter",
         "x": [
          "2018-11",
          "2018-12",
          "2019-01",
          "2019-02",
          "2019-03",
          "2019-04",
          "2019-05",
          "2019-06",
          "2019-07",
          "2019-08",
          "2019-09",
          "2019-10",
          "2019-11",
          "2019-12",
          "2020-01",
          "2020-02",
          "2020-03",
          "2020-04",
          "2020-05",
          "2020-06",
          "2020-07",
          "2020-08",
          "2020-09",
          "2020-10",
          "2020-11",
          "2020-12",
          "2021-01",
          "2021-02",
          "2021-03",
          "2021-04",
          "2021-05",
          "2021-06",
          "2021-07",
          "2021-08",
          "2021-09",
          "2021-10",
          "2021-11",
          "2021-12",
          "2022-01",
          "2022-02",
          "2022-03",
          "2022-04",
          "2022-05",
          "2022-06",
          "2022-07",
          "2022-08",
          "2022-09"
         ],
         "xaxis": "x",
         "y": [
          -0.5033119693054755,
          -2.1773241685901334,
          0.7408458962344211,
          1.2532355863301037,
          2.693192437048686,
          7.017655598983463,
          9.967900422379227,
          10.710595524381848,
          13.243187181437575,
          10.730041846923209,
          12.398129614762631,
          19.080518775150644,
          19.232630812535945,
          17.82722878281373,
          16.93383820134312,
          19.000367680619867,
          -10.713225672367166,
          -27.601746877747136,
          -30.286756251793925,
          -20.592121012880718,
          -29.62257482548454,
          -24.385255423564402,
          -31.49872507782602,
          -38.639735764102035,
          -26.400826106925855,
          -20.24587576976474,
          -20.466858291053235,
          -15.8068655791457,
          -6.491545060393266,
          -4.577745046879133,
          -1.1336646923080442,
          1.4470134501400675,
          0.7613664889695069,
          6.114041007391647,
          2.7094419486836445,
          1.5626425142550864,
          7.583984939223276,
          5.759566351898315,
          9.348606867990794,
          11.282527769249494,
          10.402672658563283,
          17.387177694337808,
          15.12206746870527,
          null,
          null,
          null,
          null
         ],
         "yaxis": "y"
        },
        {
         "marker": {
          "color": "rgba(255, 200, 90, 0.8)"
         },
         "mode": "lines+markers",
         "name": "Colonial Var. Acumulada",
         "type": "scatter",
         "x": [
          "2018-11",
          "2018-12",
          "2019-01",
          "2019-02",
          "2019-03",
          "2019-04",
          "2019-05",
          "2019-06",
          "2019-07",
          "2019-08",
          "2019-09",
          "2019-10",
          "2019-11",
          "2019-12",
          "2020-01",
          "2020-02",
          "2020-03",
          "2020-04",
          "2020-05",
          "2020-06",
          "2020-07",
          "2020-08",
          "2020-09",
          "2020-10",
          "2020-11",
          "2020-12",
          "2021-01",
          "2021-02",
          "2021-03",
          "2021-04",
          "2021-05",
          "2021-06",
          "2021-07",
          "2021-08",
          "2021-09",
          "2021-10",
          "2021-11",
          "2021-12",
          "2022-01",
          "2022-02",
          "2022-03",
          "2022-04",
          "2022-05",
          "2022-06",
          "2022-07",
          "2022-08",
          "2022-09"
         ],
         "xaxis": "x",
         "y": [
          0.29130135011310454,
          -3.2902539055678415,
          -1.1778620600843115,
          0.43475512829217466,
          4.12649466420002,
          6.641949777226131,
          11.314692067596688,
          13.917771413056713,
          15.422744266206434,
          18.478621273065578,
          21.797956751842207,
          29.000687585120744,
          30.41363459904535,
          28.396672574167336,
          31.538429071857777,
          39.20337300761365,
          11.408843745862882,
          2.151761453911547,
          -2.5860377067736824,
          2.667983171807207,
          -4.103432360700867,
          -6.474746987167137,
          -10.772532549675375,
          -14.440892438039656,
          0.6075836379953561,
          5.2797989144735205,
          3.4304369547447635,
          2.95540686955058,
          6.628245414745803,
          7.350168701731107,
          13.537180383867774,
          16.668868874405618,
          15.492842401309536,
          20.61790201284258,
          14.963286075866911,
          11.36239539476147,
          10.935703698862387,
          6.623428508479345,
          8.478369221106297,
          1.4924877432428545,
          6.130704110797092,
          9.68570810228101,
          3.601837549244614,
          -8.157145682643929,
          -14.89933224993888,
          -10.695769978829473,
          -22.23746234157582
         ],
         "yaxis": "y"
        },
        {
         "marker": {
          "color": "rgba(230, 130, 238, 0.8)"
         },
         "mode": "lines+markers",
         "name": "Lar Var. Acumulada",
         "type": "scatter",
         "x": [
          "2018-11",
          "2018-12",
          "2019-01",
          "2019-02",
          "2019-03",
          "2019-04",
          "2019-05",
          "2019-06",
          "2019-07",
          "2019-08",
          "2019-09",
          "2019-10",
          "2019-11",
          "2019-12",
          "2020-01",
          "2020-02",
          "2020-03",
          "2020-04",
          "2020-05",
          "2020-06",
          "2020-07",
          "2020-08",
          "2020-09",
          "2020-10",
          "2020-11",
          "2020-12",
          "2021-01",
          "2021-02",
          "2021-03",
          "2021-04",
          "2021-05",
          "2021-06",
          "2021-07",
          "2021-08",
          "2021-09",
          "2021-10",
          "2021-11",
          "2021-12",
          "2022-01",
          "2022-02",
          "2022-03",
          "2022-04",
          "2022-05",
          "2022-06",
          "2022-07",
          "2022-08",
          "2022-09"
         ],
         "xaxis": "x",
         "y": [
          0.5030970988368688,
          -6.502199386619368,
          -6.949573897726003,
          -2.385769531529103,
          -8.379700470154827,
          -9.652260626565722,
          -6.38641018745365,
          -8.741483455530474,
          -4.273235419871657,
          -10.554638738317534,
          0.6946209232813967,
          7.075735831470486,
          6.139608749711877,
          -0.06503501770965858,
          -6.462961422811442,
          -6.060566989766669,
          -29.291752487807642,
          -48.008325280546124,
          -46.34122013065078,
          -20.48613033681248,
          -25.832571659455983,
          -27.542504486669593,
          -36.87351858761494,
          -50.23793192241769,
          -33.71128460134044,
          -17.343931497887695,
          -19.57712465171447,
          -19.49739174054258,
          -9.721020008225066,
          -7.102060892013494,
          -5.9817446445081455,
          -8.721530608925232,
          -9.183485768502896,
          -3.2027511586934834,
          -5.425341045492271,
          -7.249784794577818,
          -8.705231423272997,
          -12.869455025646403,
          -8.878429771579288,
          -7.373126997847557,
          -12.61620455822059,
          -11.166639054438798,
          -12.947144729995653,
          -14.25938593230325,
          -16.71005428725523,
          -16.996693978041137,
          -22.768659586793742
         ],
         "yaxis": "y"
        },
        {
         "marker": {
          "color": "rgba(251, 118, 38, 0.8)"
         },
         "mode": "lines+markers",
         "name": "Arima Var. Acumulada",
         "type": "scatter",
         "x": [
          "2018-11",
          "2018-12",
          "2019-01",
          "2019-02",
          "2019-03",
          "2019-04",
          "2019-05",
          "2019-06",
          "2019-07",
          "2019-08",
          "2019-09",
          "2019-10",
          "2019-11",
          "2019-12",
          "2020-01",
          "2020-02",
          "2020-03",
          "2020-04",
          "2020-05",
          "2020-06",
          "2020-07",
          "2020-08",
          "2020-09",
          "2020-10",
          "2020-11",
          "2020-12",
          "2021-01",
          "2021-02",
          "2021-03",
          "2021-04",
          "2021-05",
          "2021-06",
          "2021-07",
          "2021-08",
          "2021-09",
          "2021-10",
          "2021-11",
          "2021-12",
          "2022-01",
          "2022-02",
          "2022-03",
          "2022-04",
          "2022-05",
          "2022-06",
          "2022-07",
          "2022-08",
          "2022-09"
         ],
         "xaxis": "x",
         "y": [
          -0.22866013440470123,
          -1.416387828008514,
          -2.4480102551270644,
          -0.5082591566344385,
          3.578261141018979,
          6.774492103434504,
          5.905534744823637,
          6.107046587890752,
          6.113603335959905,
          7.208490823020363,
          6.879116458716738,
          7.099143948901043,
          15.247975843877592,
          20.771869054345682,
          21.738746197670146,
          28.066318866173358,
          7.099232827600158,
          -5.219533472034362,
          0.7966499571480803,
          -0.5911217249404319,
          -1.5931703257313043,
          -0.476007034670086,
          -1.4966720520205388,
          -5.92236134869691,
          -9.83608498047915,
          -7.98204050395704,
          -5.643792967963075,
          1.2042264591553593,
          2.858844662559716,
          1.9498402274323463,
          2.535921424266778,
          2.86698174543583,
          8.405488686654454,
          9.770208112413275,
          5.2083536124792165,
          2.9414394565991766,
          3.7133448407384475,
          0.9878352898950951,
          2.928039788730347,
          -1.4089343636607357,
          2.2837385779293893,
          5.56553056531191,
          1.0621509680181216,
          -2.641552843208467,
          -12.865346373676173,
          -9.856755105749965,
          -10.315426769995845
         ],
         "yaxis": "y"
        }
       ],
       "layout": {
        "template": {
         "data": {
          "bar": [
           {
            "error_x": {
             "color": "#2a3f5f"
            },
            "error_y": {
             "color": "#2a3f5f"
            },
            "marker": {
             "line": {
              "color": "#E5ECF6",
              "width": 0.5
             },
             "pattern": {
              "fillmode": "overlay",
              "size": 10,
              "solidity": 0.2
             }
            },
            "type": "bar"
           }
          ],
          "barpolar": [
           {
            "marker": {
             "line": {
              "color": "#E5ECF6",
              "width": 0.5
             },
             "pattern": {
              "fillmode": "overlay",
              "size": 10,
              "solidity": 0.2
             }
            },
            "type": "barpolar"
           }
          ],
          "carpet": [
           {
            "aaxis": {
             "endlinecolor": "#2a3f5f",
             "gridcolor": "white",
             "linecolor": "white",
             "minorgridcolor": "white",
             "startlinecolor": "#2a3f5f"
            },
            "baxis": {
             "endlinecolor": "#2a3f5f",
             "gridcolor": "white",
             "linecolor": "white",
             "minorgridcolor": "white",
             "startlinecolor": "#2a3f5f"
            },
            "type": "carpet"
           }
          ],
          "choropleth": [
           {
            "colorbar": {
             "outlinewidth": 0,
             "ticks": ""
            },
            "type": "choropleth"
           }
          ],
          "contour": [
           {
            "colorbar": {
             "outlinewidth": 0,
             "ticks": ""
            },
            "colorscale": [
             [
              0,
              "#0d0887"
             ],
             [
              0.1111111111111111,
              "#46039f"
             ],
             [
              0.2222222222222222,
              "#7201a8"
             ],
             [
              0.3333333333333333,
              "#9c179e"
             ],
             [
              0.4444444444444444,
              "#bd3786"
             ],
             [
              0.5555555555555556,
              "#d8576b"
             ],
             [
              0.6666666666666666,
              "#ed7953"
             ],
             [
              0.7777777777777778,
              "#fb9f3a"
             ],
             [
              0.8888888888888888,
              "#fdca26"
             ],
             [
              1,
              "#f0f921"
             ]
            ],
            "type": "contour"
           }
          ],
          "contourcarpet": [
           {
            "colorbar": {
             "outlinewidth": 0,
             "ticks": ""
            },
            "type": "contourcarpet"
           }
          ],
          "heatmap": [
           {
            "colorbar": {
             "outlinewidth": 0,
             "ticks": ""
            },
            "colorscale": [
             [
              0,
              "#0d0887"
             ],
             [
              0.1111111111111111,
              "#46039f"
             ],
             [
              0.2222222222222222,
              "#7201a8"
             ],
             [
              0.3333333333333333,
              "#9c179e"
             ],
             [
              0.4444444444444444,
              "#bd3786"
             ],
             [
              0.5555555555555556,
              "#d8576b"
             ],
             [
              0.6666666666666666,
              "#ed7953"
             ],
             [
              0.7777777777777778,
              "#fb9f3a"
             ],
             [
              0.8888888888888888,
              "#fdca26"
             ],
             [
              1,
              "#f0f921"
             ]
            ],
            "type": "heatmap"
           }
          ],
          "heatmapgl": [
           {
            "colorbar": {
             "outlinewidth": 0,
             "ticks": ""
            },
            "colorscale": [
             [
              0,
              "#0d0887"
             ],
             [
              0.1111111111111111,
              "#46039f"
             ],
             [
              0.2222222222222222,
              "#7201a8"
             ],
             [
              0.3333333333333333,
              "#9c179e"
             ],
             [
              0.4444444444444444,
              "#bd3786"
             ],
             [
              0.5555555555555556,
              "#d8576b"
             ],
             [
              0.6666666666666666,
              "#ed7953"
             ],
             [
              0.7777777777777778,
              "#fb9f3a"
             ],
             [
              0.8888888888888888,
              "#fdca26"
             ],
             [
              1,
              "#f0f921"
             ]
            ],
            "type": "heatmapgl"
           }
          ],
          "histogram": [
           {
            "marker": {
             "pattern": {
              "fillmode": "overlay",
              "size": 10,
              "solidity": 0.2
             }
            },
            "type": "histogram"
           }
          ],
          "histogram2d": [
           {
            "colorbar": {
             "outlinewidth": 0,
             "ticks": ""
            },
            "colorscale": [
             [
              0,
              "#0d0887"
             ],
             [
              0.1111111111111111,
              "#46039f"
             ],
             [
              0.2222222222222222,
              "#7201a8"
             ],
             [
              0.3333333333333333,
              "#9c179e"
             ],
             [
              0.4444444444444444,
              "#bd3786"
             ],
             [
              0.5555555555555556,
              "#d8576b"
             ],
             [
              0.6666666666666666,
              "#ed7953"
             ],
             [
              0.7777777777777778,
              "#fb9f3a"
             ],
             [
              0.8888888888888888,
              "#fdca26"
             ],
             [
              1,
              "#f0f921"
             ]
            ],
            "type": "histogram2d"
           }
          ],
          "histogram2dcontour": [
           {
            "colorbar": {
             "outlinewidth": 0,
             "ticks": ""
            },
            "colorscale": [
             [
              0,
              "#0d0887"
             ],
             [
              0.1111111111111111,
              "#46039f"
             ],
             [
              0.2222222222222222,
              "#7201a8"
             ],
             [
              0.3333333333333333,
              "#9c179e"
             ],
             [
              0.4444444444444444,
              "#bd3786"
             ],
             [
              0.5555555555555556,
              "#d8576b"
             ],
             [
              0.6666666666666666,
              "#ed7953"
             ],
             [
              0.7777777777777778,
              "#fb9f3a"
             ],
             [
              0.8888888888888888,
              "#fdca26"
             ],
             [
              1,
              "#f0f921"
             ]
            ],
            "type": "histogram2dcontour"
           }
          ],
          "mesh3d": [
           {
            "colorbar": {
             "outlinewidth": 0,
             "ticks": ""
            },
            "type": "mesh3d"
           }
          ],
          "parcoords": [
           {
            "line": {
             "colorbar": {
              "outlinewidth": 0,
              "ticks": ""
             }
            },
            "type": "parcoords"
           }
          ],
          "pie": [
           {
            "automargin": true,
            "type": "pie"
           }
          ],
          "scatter": [
           {
            "fillpattern": {
             "fillmode": "overlay",
             "size": 10,
             "solidity": 0.2
            },
            "type": "scatter"
           }
          ],
          "scatter3d": [
           {
            "line": {
             "colorbar": {
              "outlinewidth": 0,
              "ticks": ""
             }
            },
            "marker": {
             "colorbar": {
              "outlinewidth": 0,
              "ticks": ""
             }
            },
            "type": "scatter3d"
           }
          ],
          "scattercarpet": [
           {
            "marker": {
             "colorbar": {
              "outlinewidth": 0,
              "ticks": ""
             }
            },
            "type": "scattercarpet"
           }
          ],
          "scattergeo": [
           {
            "marker": {
             "colorbar": {
              "outlinewidth": 0,
              "ticks": ""
             }
            },
            "type": "scattergeo"
           }
          ],
          "scattergl": [
           {
            "marker": {
             "colorbar": {
              "outlinewidth": 0,
              "ticks": ""
             }
            },
            "type": "scattergl"
           }
          ],
          "scattermapbox": [
           {
            "marker": {
             "colorbar": {
              "outlinewidth": 0,
              "ticks": ""
             }
            },
            "type": "scattermapbox"
           }
          ],
          "scatterpolar": [
           {
            "marker": {
             "colorbar": {
              "outlinewidth": 0,
              "ticks": ""
             }
            },
            "type": "scatterpolar"
           }
          ],
          "scatterpolargl": [
           {
            "marker": {
             "colorbar": {
              "outlinewidth": 0,
              "ticks": ""
             }
            },
            "type": "scatterpolargl"
           }
          ],
          "scatterternary": [
           {
            "marker": {
             "colorbar": {
              "outlinewidth": 0,
              "ticks": ""
             }
            },
            "type": "scatterternary"
           }
          ],
          "surface": [
           {
            "colorbar": {
             "outlinewidth": 0,
             "ticks": ""
            },
            "colorscale": [
             [
              0,
              "#0d0887"
             ],
             [
              0.1111111111111111,
              "#46039f"
             ],
             [
              0.2222222222222222,
              "#7201a8"
             ],
             [
              0.3333333333333333,
              "#9c179e"
             ],
             [
              0.4444444444444444,
              "#bd3786"
             ],
             [
              0.5555555555555556,
              "#d8576b"
             ],
             [
              0.6666666666666666,
              "#ed7953"
             ],
             [
              0.7777777777777778,
              "#fb9f3a"
             ],
             [
              0.8888888888888888,
              "#fdca26"
             ],
             [
              1,
              "#f0f921"
             ]
            ],
            "type": "surface"
           }
          ],
          "table": [
           {
            "cells": {
             "fill": {
              "color": "#EBF0F8"
             },
             "line": {
              "color": "white"
             }
            },
            "header": {
             "fill": {
              "color": "#C8D4E3"
             },
             "line": {
              "color": "white"
             }
            },
            "type": "table"
           }
          ]
         },
         "layout": {
          "annotationdefaults": {
           "arrowcolor": "#2a3f5f",
           "arrowhead": 0,
           "arrowwidth": 1
          },
          "autotypenumbers": "strict",
          "coloraxis": {
           "colorbar": {
            "outlinewidth": 0,
            "ticks": ""
           }
          },
          "colorscale": {
           "diverging": [
            [
             0,
             "#8e0152"
            ],
            [
             0.1,
             "#c51b7d"
            ],
            [
             0.2,
             "#de77ae"
            ],
            [
             0.3,
             "#f1b6da"
            ],
            [
             0.4,
             "#fde0ef"
            ],
            [
             0.5,
             "#f7f7f7"
            ],
            [
             0.6,
             "#e6f5d0"
            ],
            [
             0.7,
             "#b8e186"
            ],
            [
             0.8,
             "#7fbc41"
            ],
            [
             0.9,
             "#4d9221"
            ],
            [
             1,
             "#276419"
            ]
           ],
           "sequential": [
            [
             0,
             "#0d0887"
            ],
            [
             0.1111111111111111,
             "#46039f"
            ],
            [
             0.2222222222222222,
             "#7201a8"
            ],
            [
             0.3333333333333333,
             "#9c179e"
            ],
            [
             0.4444444444444444,
             "#bd3786"
            ],
            [
             0.5555555555555556,
             "#d8576b"
            ],
            [
             0.6666666666666666,
             "#ed7953"
            ],
            [
             0.7777777777777778,
             "#fb9f3a"
            ],
            [
             0.8888888888888888,
             "#fdca26"
            ],
            [
             1,
             "#f0f921"
            ]
           ],
           "sequentialminus": [
            [
             0,
             "#0d0887"
            ],
            [
             0.1111111111111111,
             "#46039f"
            ],
            [
             0.2222222222222222,
             "#7201a8"
            ],
            [
             0.3333333333333333,
             "#9c179e"
            ],
            [
             0.4444444444444444,
             "#bd3786"
            ],
            [
             0.5555555555555556,
             "#d8576b"
            ],
            [
             0.6666666666666666,
             "#ed7953"
            ],
            [
             0.7777777777777778,
             "#fb9f3a"
            ],
            [
             0.8888888888888888,
             "#fdca26"
            ],
            [
             1,
             "#f0f921"
            ]
           ]
          },
          "colorway": [
           "#636efa",
           "#EF553B",
           "#00cc96",
           "#ab63fa",
           "#FFA15A",
           "#19d3f3",
           "#FF6692",
           "#B6E880",
           "#FF97FF",
           "#FECB52"
          ],
          "font": {
           "color": "#2a3f5f"
          },
          "geo": {
           "bgcolor": "white",
           "lakecolor": "white",
           "landcolor": "#E5ECF6",
           "showlakes": true,
           "showland": true,
           "subunitcolor": "white"
          },
          "hoverlabel": {
           "align": "left"
          },
          "hovermode": "closest",
          "mapbox": {
           "style": "light"
          },
          "paper_bgcolor": "white",
          "plot_bgcolor": "#E5ECF6",
          "polar": {
           "angularaxis": {
            "gridcolor": "white",
            "linecolor": "white",
            "ticks": ""
           },
           "bgcolor": "#E5ECF6",
           "radialaxis": {
            "gridcolor": "white",
            "linecolor": "white",
            "ticks": ""
           }
          },
          "scene": {
           "xaxis": {
            "backgroundcolor": "#E5ECF6",
            "gridcolor": "white",
            "gridwidth": 2,
            "linecolor": "white",
            "showbackground": true,
            "ticks": "",
            "zerolinecolor": "white"
           },
           "yaxis": {
            "backgroundcolor": "#E5ECF6",
            "gridcolor": "white",
            "gridwidth": 2,
            "linecolor": "white",
            "showbackground": true,
            "ticks": "",
            "zerolinecolor": "white"
           },
           "zaxis": {
            "backgroundcolor": "#E5ECF6",
            "gridcolor": "white",
            "gridwidth": 2,
            "linecolor": "white",
            "showbackground": true,
            "ticks": "",
            "zerolinecolor": "white"
           }
          },
          "shapedefaults": {
           "line": {
            "color": "#2a3f5f"
           }
          },
          "ternary": {
           "aaxis": {
            "gridcolor": "white",
            "linecolor": "white",
            "ticks": ""
           },
           "baxis": {
            "gridcolor": "white",
            "linecolor": "white",
            "ticks": ""
           },
           "bgcolor": "#E5ECF6",
           "caxis": {
            "gridcolor": "white",
            "linecolor": "white",
            "ticks": ""
           }
          },
          "title": {
           "x": 0.05
          },
          "xaxis": {
           "automargin": true,
           "gridcolor": "white",
           "linecolor": "white",
           "ticks": "",
           "title": {
            "standoff": 15
           },
           "zerolinecolor": "white",
           "zerolinewidth": 2
          },
          "yaxis": {
           "automargin": true,
           "gridcolor": "white",
           "linecolor": "white",
           "ticks": "",
           "title": {
            "standoff": 15
           },
           "zerolinecolor": "white",
           "zerolinewidth": 2
          }
         }
        },
        "title": {
         "text": "Variación Acumulada de las principales SOCIMI vs Variación Acumulada del IBX35 y del IPC"
        },
        "xaxis": {
         "anchor": "y",
         "domain": [
          0,
          0.94
         ],
         "title": {
          "text": "Meses desde 11/2018 a 05/2022"
         }
        },
        "yaxis": {
         "anchor": "x",
         "domain": [
          0,
          1
         ],
         "range": [
          -60,
          60
         ],
         "title": {
          "text": "Escala SOCIMIs e IBEX35"
         }
        },
        "yaxis2": {
         "anchor": "x",
         "overlaying": "y",
         "range": [
          -15,
          15
         ],
         "side": "right",
         "title": {
          "text": "Escala IPC"
         }
        }
       }
      }
     },
     "metadata": {},
     "output_type": "display_data"
    }
   ],
   "source": [
    "df = all_data_col_lines\n",
    "#import plotly.graph_objs as go\n",
    "from plotly.subplots import make_subplots\n",
    "\n",
    "fig = make_subplots(specs=[[{\"secondary_y\": True}]])\n",
    "\n",
    "#Ajustamos los ejes\n",
    "fig.update_yaxes(range=[-60,60], secondary_y=False)\n",
    "fig.update_yaxes(range=[-15,15], secondary_y=True)\n",
    "\n",
    "fig.add_trace(\n",
    "    go.Scatter(\n",
    "    x = df[\"Date\"],\n",
    "    y = df[\"IPC Var. Acumulada\"],\n",
    "    name = \"IPC Var. Acumulada\",\n",
    "    mode = \"lines+markers\",\n",
    "    marker = dict(color = 'rgba(16, 112, 2, 0.8)')),\n",
    "    secondary_y=True,\n",
    ")\n",
    "fig.add_trace(\n",
    "    go.Scatter(\n",
    "    x = df[\"Date\"],\n",
    "    y = df[\"IBEX35 Var. Acumulada\"],\n",
    "    name = \"IBEX35 Var. Acumulada\",\n",
    "    mode = \"lines+markers\",\n",
    "    marker = dict(color = \"rgba(30, 26, 255, 0.8)\")),\n",
    "    secondary_y=False,\n",
    ")\n",
    "\n",
    "fig.add_trace(\n",
    "    go.Scatter(\n",
    "    x = df[\"Date\"],\n",
    "    y = df[\"Merlin Var. Acumulada\"],\n",
    "    name = \"Merlin Var. Acumulada\",\n",
    "    mode = \"lines+markers\",\n",
    "    marker = dict(color = \"rgba(255, 20, 5, 0.8)\")),\n",
    "    secondary_y=False,\n",
    ")\n",
    "\n",
    "fig.add_trace(\n",
    "    go.Scatter(\n",
    "    x = df[\"Date\"],\n",
    "    y = df[\"Colonial Var. Acumulada\"],\n",
    "    name = \"Colonial Var. Acumulada\",\n",
    "    mode = \"lines+markers\",\n",
    "    marker = dict(color = \"rgba(255, 200, 90, 0.8)\")),\n",
    "    secondary_y=False,\n",
    ")\n",
    "\n",
    "fig.add_trace(\n",
    "    go.Scatter(\n",
    "    x = df[\"Date\"],\n",
    "    y = df[\"Lar Var. Acumulada\"],\n",
    "    name = \"Lar Var. Acumulada\",\n",
    "    mode = \"lines+markers\",\n",
    "    marker = dict(color = \"rgba(230, 130, 238, 0.8)\")),\n",
    "    secondary_y=False,\n",
    ")\n",
    "\n",
    "fig.add_trace(\n",
    "    go.Scatter(\n",
    "    x = df[\"Date\"],\n",
    "    y = df[\"Arima Var. Acumulada\"],\n",
    "    name = \"Arima Var. Acumulada\",\n",
    "    mode = \"lines+markers\",\n",
    "    marker = dict(color = \"rgba(251, 118, 38, 0.8)\")),\n",
    "    secondary_y=False,\n",
    ")\n",
    "\n",
    "fig.update_layout(\n",
    "    title_text=\"Variación Acumulada de las principales SOCIMI vs Variación Acumulada del IBX35 y del IPC\"\n",
    ")\n",
    "\n",
    "fig.update_xaxes(title_text=\"Meses desde 11/2018 a 05/2022\")\n",
    "\n",
    "fig.update_yaxes(title_text=\"Escala SOCIMIs e IBEX35\", secondary_y=False)\n",
    "fig.update_yaxes(title_text=\"Escala IPC\", secondary_y=True)\n",
    "\n",
    "fig.show()"
   ]
  }
 ],
 "metadata": {
  "interpreter": {
   "hash": "ca706a3fec59b69d5f05e107b87430eb3c4104a69157c76304ffce85c26cd350"
  },
  "kernelspec": {
   "display_name": "Python 3.7.4 64-bit",
   "language": "python",
   "name": "python3"
  },
  "language_info": {
   "codemirror_mode": {
    "name": "ipython",
    "version": 3
   },
   "file_extension": ".py",
   "mimetype": "text/x-python",
   "name": "python",
   "nbconvert_exporter": "python",
   "pygments_lexer": "ipython3",
   "version": "3.7.4"
  },
  "orig_nbformat": 4
 },
 "nbformat": 4,
 "nbformat_minor": 2
}
